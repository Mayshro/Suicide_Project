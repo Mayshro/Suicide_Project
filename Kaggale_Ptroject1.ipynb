{
  "nbformat": 4,
  "nbformat_minor": 0,
  "metadata": {
    "colab": {
      "provenance": [],
      "mount_file_id": "1cer2kG2oXHBe13XAbCbEREDzM9kXFf4X",
      "authorship_tag": "ABX9TyNq5Z2nspIZZIFoJR+TrIRw",
      "include_colab_link": true
    },
    "kernelspec": {
      "name": "python3",
      "display_name": "Python 3"
    },
    "language_info": {
      "name": "python"
    }
  },
  "cells": [
    {
      "cell_type": "markdown",
      "metadata": {
        "id": "view-in-github",
        "colab_type": "text"
      },
      "source": [
        "<a href=\"https://colab.research.google.com/github/Mayshro/Suicide_Project/blob/main/Kaggale_Ptroject1.ipynb\" target=\"_parent\"><img src=\"https://colab.research.google.com/assets/colab-badge.svg\" alt=\"Open In Colab\"/></a>"
      ]
    },
    {
      "cell_type": "code",
      "execution_count": 1,
      "metadata": {
        "id": "lHXzJ77pfTdi"
      },
      "outputs": [],
      "source": [
        "#importing libraries\n",
        "\n",
        "import pandas as pd\n",
        "import numpy as np\n",
        "import matplotlib.pyplot as plt\n",
        "import seaborn as sns\n",
        "\n",
        "\n",
        "import sklearn as sk\n",
        "from sklearn.model_selection import train_test_split\n",
        "from sklearn.preprocessing import StandardScaler"
      ]
    },
    {
      "cell_type": "markdown",
      "source": [
        "1- Importing the original suicide data set and renaming the columns"
      ],
      "metadata": {
        "id": "vrHQiiJYic86"
      }
    },
    {
      "cell_type": "code",
      "source": [
        "data = pd.read_csv('/content/drive/MyDrive/train.csv')\n",
        "data1 = pd.read_csv('/content/drive/MyDrive/Colab Notebooks/test.csv')"
      ],
      "metadata": {
        "id": "DZvJnv4ijECN"
      },
      "execution_count": 2,
      "outputs": []
    },
    {
      "cell_type": "code",
      "source": [
        "data1 = data1.drop(columns=['HDI for year'])"
      ],
      "metadata": {
        "id": "VlM4RRVlMueW"
      },
      "execution_count": 3,
      "outputs": []
    },
    {
      "cell_type": "code",
      "source": [
        "data"
      ],
      "metadata": {
        "id": "mkfUTYO3o-Jy",
        "colab": {
          "base_uri": "https://localhost:8080/",
          "height": 423
        },
        "outputId": "e29fe827-7559-4c9f-9992-bc4ebfeb363f"
      },
      "execution_count": 4,
      "outputs": [
        {
          "output_type": "execute_result",
          "data": {
            "text/plain": [
              "          id  country  year     sex          age  suicides_no  population  \\\n",
              "0          0  Albania  1987    male  15-24 years           21      312900   \n",
              "1          1  Albania  1987    male  35-54 years           16      308000   \n",
              "2          2  Albania  1987  female  15-24 years           14      289700   \n",
              "3          3  Albania  1987    male    75+ years            1       21800   \n",
              "4          4  Albania  1987    male  25-34 years            9      274300   \n",
              "...      ...      ...   ...     ...          ...          ...         ...   \n",
              "18078  18078   Norway  2003  female  35-54 years           45      629033   \n",
              "18079  18079   Norway  2003  female  25-34 years           22      321320   \n",
              "18080  18080   Norway  2003  female  15-24 years           17      269608   \n",
              "18081  18081   Norway  2003  female    75+ years           11      220907   \n",
              "18082  18082   Norway  2003    male   5-14 years            6      317824   \n",
              "\n",
              "      country-year  HDI for year  gdp_for_year ($)   gdp_per_capita ($)  \\\n",
              "0      Albania1987           NaN      2,156,624,900                 796   \n",
              "1      Albania1987           NaN      2,156,624,900                 796   \n",
              "2      Albania1987           NaN      2,156,624,900                 796   \n",
              "3      Albania1987           NaN      2,156,624,900                 796   \n",
              "4      Albania1987           NaN      2,156,624,900                 796   \n",
              "...            ...           ...                ...                 ...   \n",
              "18078   Norway2003           NaN    228,752,436,372               53533   \n",
              "18079   Norway2003           NaN    228,752,436,372               53533   \n",
              "18080   Norway2003           NaN    228,752,436,372               53533   \n",
              "18081   Norway2003           NaN    228,752,436,372               53533   \n",
              "18082   Norway2003           NaN    228,752,436,372               53533   \n",
              "\n",
              "            generation  \n",
              "0         Generation X  \n",
              "1               Silent  \n",
              "2         Generation X  \n",
              "3      G.I. Generation  \n",
              "4              Boomers  \n",
              "...                ...  \n",
              "18078          Boomers  \n",
              "18079     Generation X  \n",
              "18080       Millenials  \n",
              "18081           Silent  \n",
              "18082       Millenials  \n",
              "\n",
              "[18083 rows x 12 columns]"
            ],
            "text/html": [
              "\n",
              "  <div id=\"df-915e88cc-b002-4a76-8da5-f92961424cd2\">\n",
              "    <div class=\"colab-df-container\">\n",
              "      <div>\n",
              "<style scoped>\n",
              "    .dataframe tbody tr th:only-of-type {\n",
              "        vertical-align: middle;\n",
              "    }\n",
              "\n",
              "    .dataframe tbody tr th {\n",
              "        vertical-align: top;\n",
              "    }\n",
              "\n",
              "    .dataframe thead th {\n",
              "        text-align: right;\n",
              "    }\n",
              "</style>\n",
              "<table border=\"1\" class=\"dataframe\">\n",
              "  <thead>\n",
              "    <tr style=\"text-align: right;\">\n",
              "      <th></th>\n",
              "      <th>id</th>\n",
              "      <th>country</th>\n",
              "      <th>year</th>\n",
              "      <th>sex</th>\n",
              "      <th>age</th>\n",
              "      <th>suicides_no</th>\n",
              "      <th>population</th>\n",
              "      <th>country-year</th>\n",
              "      <th>HDI for year</th>\n",
              "      <th>gdp_for_year ($)</th>\n",
              "      <th>gdp_per_capita ($)</th>\n",
              "      <th>generation</th>\n",
              "    </tr>\n",
              "  </thead>\n",
              "  <tbody>\n",
              "    <tr>\n",
              "      <th>0</th>\n",
              "      <td>0</td>\n",
              "      <td>Albania</td>\n",
              "      <td>1987</td>\n",
              "      <td>male</td>\n",
              "      <td>15-24 years</td>\n",
              "      <td>21</td>\n",
              "      <td>312900</td>\n",
              "      <td>Albania1987</td>\n",
              "      <td>NaN</td>\n",
              "      <td>2,156,624,900</td>\n",
              "      <td>796</td>\n",
              "      <td>Generation X</td>\n",
              "    </tr>\n",
              "    <tr>\n",
              "      <th>1</th>\n",
              "      <td>1</td>\n",
              "      <td>Albania</td>\n",
              "      <td>1987</td>\n",
              "      <td>male</td>\n",
              "      <td>35-54 years</td>\n",
              "      <td>16</td>\n",
              "      <td>308000</td>\n",
              "      <td>Albania1987</td>\n",
              "      <td>NaN</td>\n",
              "      <td>2,156,624,900</td>\n",
              "      <td>796</td>\n",
              "      <td>Silent</td>\n",
              "    </tr>\n",
              "    <tr>\n",
              "      <th>2</th>\n",
              "      <td>2</td>\n",
              "      <td>Albania</td>\n",
              "      <td>1987</td>\n",
              "      <td>female</td>\n",
              "      <td>15-24 years</td>\n",
              "      <td>14</td>\n",
              "      <td>289700</td>\n",
              "      <td>Albania1987</td>\n",
              "      <td>NaN</td>\n",
              "      <td>2,156,624,900</td>\n",
              "      <td>796</td>\n",
              "      <td>Generation X</td>\n",
              "    </tr>\n",
              "    <tr>\n",
              "      <th>3</th>\n",
              "      <td>3</td>\n",
              "      <td>Albania</td>\n",
              "      <td>1987</td>\n",
              "      <td>male</td>\n",
              "      <td>75+ years</td>\n",
              "      <td>1</td>\n",
              "      <td>21800</td>\n",
              "      <td>Albania1987</td>\n",
              "      <td>NaN</td>\n",
              "      <td>2,156,624,900</td>\n",
              "      <td>796</td>\n",
              "      <td>G.I. Generation</td>\n",
              "    </tr>\n",
              "    <tr>\n",
              "      <th>4</th>\n",
              "      <td>4</td>\n",
              "      <td>Albania</td>\n",
              "      <td>1987</td>\n",
              "      <td>male</td>\n",
              "      <td>25-34 years</td>\n",
              "      <td>9</td>\n",
              "      <td>274300</td>\n",
              "      <td>Albania1987</td>\n",
              "      <td>NaN</td>\n",
              "      <td>2,156,624,900</td>\n",
              "      <td>796</td>\n",
              "      <td>Boomers</td>\n",
              "    </tr>\n",
              "    <tr>\n",
              "      <th>...</th>\n",
              "      <td>...</td>\n",
              "      <td>...</td>\n",
              "      <td>...</td>\n",
              "      <td>...</td>\n",
              "      <td>...</td>\n",
              "      <td>...</td>\n",
              "      <td>...</td>\n",
              "      <td>...</td>\n",
              "      <td>...</td>\n",
              "      <td>...</td>\n",
              "      <td>...</td>\n",
              "      <td>...</td>\n",
              "    </tr>\n",
              "    <tr>\n",
              "      <th>18078</th>\n",
              "      <td>18078</td>\n",
              "      <td>Norway</td>\n",
              "      <td>2003</td>\n",
              "      <td>female</td>\n",
              "      <td>35-54 years</td>\n",
              "      <td>45</td>\n",
              "      <td>629033</td>\n",
              "      <td>Norway2003</td>\n",
              "      <td>NaN</td>\n",
              "      <td>228,752,436,372</td>\n",
              "      <td>53533</td>\n",
              "      <td>Boomers</td>\n",
              "    </tr>\n",
              "    <tr>\n",
              "      <th>18079</th>\n",
              "      <td>18079</td>\n",
              "      <td>Norway</td>\n",
              "      <td>2003</td>\n",
              "      <td>female</td>\n",
              "      <td>25-34 years</td>\n",
              "      <td>22</td>\n",
              "      <td>321320</td>\n",
              "      <td>Norway2003</td>\n",
              "      <td>NaN</td>\n",
              "      <td>228,752,436,372</td>\n",
              "      <td>53533</td>\n",
              "      <td>Generation X</td>\n",
              "    </tr>\n",
              "    <tr>\n",
              "      <th>18080</th>\n",
              "      <td>18080</td>\n",
              "      <td>Norway</td>\n",
              "      <td>2003</td>\n",
              "      <td>female</td>\n",
              "      <td>15-24 years</td>\n",
              "      <td>17</td>\n",
              "      <td>269608</td>\n",
              "      <td>Norway2003</td>\n",
              "      <td>NaN</td>\n",
              "      <td>228,752,436,372</td>\n",
              "      <td>53533</td>\n",
              "      <td>Millenials</td>\n",
              "    </tr>\n",
              "    <tr>\n",
              "      <th>18081</th>\n",
              "      <td>18081</td>\n",
              "      <td>Norway</td>\n",
              "      <td>2003</td>\n",
              "      <td>female</td>\n",
              "      <td>75+ years</td>\n",
              "      <td>11</td>\n",
              "      <td>220907</td>\n",
              "      <td>Norway2003</td>\n",
              "      <td>NaN</td>\n",
              "      <td>228,752,436,372</td>\n",
              "      <td>53533</td>\n",
              "      <td>Silent</td>\n",
              "    </tr>\n",
              "    <tr>\n",
              "      <th>18082</th>\n",
              "      <td>18082</td>\n",
              "      <td>Norway</td>\n",
              "      <td>2003</td>\n",
              "      <td>male</td>\n",
              "      <td>5-14 years</td>\n",
              "      <td>6</td>\n",
              "      <td>317824</td>\n",
              "      <td>Norway2003</td>\n",
              "      <td>NaN</td>\n",
              "      <td>228,752,436,372</td>\n",
              "      <td>53533</td>\n",
              "      <td>Millenials</td>\n",
              "    </tr>\n",
              "  </tbody>\n",
              "</table>\n",
              "<p>18083 rows × 12 columns</p>\n",
              "</div>\n",
              "      <button class=\"colab-df-convert\" onclick=\"convertToInteractive('df-915e88cc-b002-4a76-8da5-f92961424cd2')\"\n",
              "              title=\"Convert this dataframe to an interactive table.\"\n",
              "              style=\"display:none;\">\n",
              "        \n",
              "  <svg xmlns=\"http://www.w3.org/2000/svg\" height=\"24px\"viewBox=\"0 0 24 24\"\n",
              "       width=\"24px\">\n",
              "    <path d=\"M0 0h24v24H0V0z\" fill=\"none\"/>\n",
              "    <path d=\"M18.56 5.44l.94 2.06.94-2.06 2.06-.94-2.06-.94-.94-2.06-.94 2.06-2.06.94zm-11 1L8.5 8.5l.94-2.06 2.06-.94-2.06-.94L8.5 2.5l-.94 2.06-2.06.94zm10 10l.94 2.06.94-2.06 2.06-.94-2.06-.94-.94-2.06-.94 2.06-2.06.94z\"/><path d=\"M17.41 7.96l-1.37-1.37c-.4-.4-.92-.59-1.43-.59-.52 0-1.04.2-1.43.59L10.3 9.45l-7.72 7.72c-.78.78-.78 2.05 0 2.83L4 21.41c.39.39.9.59 1.41.59.51 0 1.02-.2 1.41-.59l7.78-7.78 2.81-2.81c.8-.78.8-2.07 0-2.86zM5.41 20L4 18.59l7.72-7.72 1.47 1.35L5.41 20z\"/>\n",
              "  </svg>\n",
              "      </button>\n",
              "      \n",
              "  <style>\n",
              "    .colab-df-container {\n",
              "      display:flex;\n",
              "      flex-wrap:wrap;\n",
              "      gap: 12px;\n",
              "    }\n",
              "\n",
              "    .colab-df-convert {\n",
              "      background-color: #E8F0FE;\n",
              "      border: none;\n",
              "      border-radius: 50%;\n",
              "      cursor: pointer;\n",
              "      display: none;\n",
              "      fill: #1967D2;\n",
              "      height: 32px;\n",
              "      padding: 0 0 0 0;\n",
              "      width: 32px;\n",
              "    }\n",
              "\n",
              "    .colab-df-convert:hover {\n",
              "      background-color: #E2EBFA;\n",
              "      box-shadow: 0px 1px 2px rgba(60, 64, 67, 0.3), 0px 1px 3px 1px rgba(60, 64, 67, 0.15);\n",
              "      fill: #174EA6;\n",
              "    }\n",
              "\n",
              "    [theme=dark] .colab-df-convert {\n",
              "      background-color: #3B4455;\n",
              "      fill: #D2E3FC;\n",
              "    }\n",
              "\n",
              "    [theme=dark] .colab-df-convert:hover {\n",
              "      background-color: #434B5C;\n",
              "      box-shadow: 0px 1px 3px 1px rgba(0, 0, 0, 0.15);\n",
              "      filter: drop-shadow(0px 1px 2px rgba(0, 0, 0, 0.3));\n",
              "      fill: #FFFFFF;\n",
              "    }\n",
              "  </style>\n",
              "\n",
              "      <script>\n",
              "        const buttonEl =\n",
              "          document.querySelector('#df-915e88cc-b002-4a76-8da5-f92961424cd2 button.colab-df-convert');\n",
              "        buttonEl.style.display =\n",
              "          google.colab.kernel.accessAllowed ? 'block' : 'none';\n",
              "\n",
              "        async function convertToInteractive(key) {\n",
              "          const element = document.querySelector('#df-915e88cc-b002-4a76-8da5-f92961424cd2');\n",
              "          const dataTable =\n",
              "            await google.colab.kernel.invokeFunction('convertToInteractive',\n",
              "                                                     [key], {});\n",
              "          if (!dataTable) return;\n",
              "\n",
              "          const docLinkHtml = 'Like what you see? Visit the ' +\n",
              "            '<a target=\"_blank\" href=https://colab.research.google.com/notebooks/data_table.ipynb>data table notebook</a>'\n",
              "            + ' to learn more about interactive tables.';\n",
              "          element.innerHTML = '';\n",
              "          dataTable['output_type'] = 'display_data';\n",
              "          await google.colab.output.renderOutput(dataTable, element);\n",
              "          const docLink = document.createElement('div');\n",
              "          docLink.innerHTML = docLinkHtml;\n",
              "          element.appendChild(docLink);\n",
              "        }\n",
              "      </script>\n",
              "    </div>\n",
              "  </div>\n",
              "  "
            ]
          },
          "metadata": {},
          "execution_count": 4
        }
      ]
    },
    {
      "cell_type": "code",
      "source": [
        "data.head()"
      ],
      "metadata": {
        "colab": {
          "base_uri": "https://localhost:8080/",
          "height": 206
        },
        "id": "ZIalbMfXKPqF",
        "outputId": "6103e784-094f-4a18-e490-48f69cb1af0d"
      },
      "execution_count": 5,
      "outputs": [
        {
          "output_type": "execute_result",
          "data": {
            "text/plain": [
              "   id  country  year     sex          age  suicides_no  population  \\\n",
              "0   0  Albania  1987    male  15-24 years           21      312900   \n",
              "1   1  Albania  1987    male  35-54 years           16      308000   \n",
              "2   2  Albania  1987  female  15-24 years           14      289700   \n",
              "3   3  Albania  1987    male    75+ years            1       21800   \n",
              "4   4  Albania  1987    male  25-34 years            9      274300   \n",
              "\n",
              "  country-year  HDI for year  gdp_for_year ($)   gdp_per_capita ($)  \\\n",
              "0  Albania1987           NaN      2,156,624,900                 796   \n",
              "1  Albania1987           NaN      2,156,624,900                 796   \n",
              "2  Albania1987           NaN      2,156,624,900                 796   \n",
              "3  Albania1987           NaN      2,156,624,900                 796   \n",
              "4  Albania1987           NaN      2,156,624,900                 796   \n",
              "\n",
              "        generation  \n",
              "0     Generation X  \n",
              "1           Silent  \n",
              "2     Generation X  \n",
              "3  G.I. Generation  \n",
              "4          Boomers  "
            ],
            "text/html": [
              "\n",
              "  <div id=\"df-835a64ae-cff0-4690-b285-338e05bd15f4\">\n",
              "    <div class=\"colab-df-container\">\n",
              "      <div>\n",
              "<style scoped>\n",
              "    .dataframe tbody tr th:only-of-type {\n",
              "        vertical-align: middle;\n",
              "    }\n",
              "\n",
              "    .dataframe tbody tr th {\n",
              "        vertical-align: top;\n",
              "    }\n",
              "\n",
              "    .dataframe thead th {\n",
              "        text-align: right;\n",
              "    }\n",
              "</style>\n",
              "<table border=\"1\" class=\"dataframe\">\n",
              "  <thead>\n",
              "    <tr style=\"text-align: right;\">\n",
              "      <th></th>\n",
              "      <th>id</th>\n",
              "      <th>country</th>\n",
              "      <th>year</th>\n",
              "      <th>sex</th>\n",
              "      <th>age</th>\n",
              "      <th>suicides_no</th>\n",
              "      <th>population</th>\n",
              "      <th>country-year</th>\n",
              "      <th>HDI for year</th>\n",
              "      <th>gdp_for_year ($)</th>\n",
              "      <th>gdp_per_capita ($)</th>\n",
              "      <th>generation</th>\n",
              "    </tr>\n",
              "  </thead>\n",
              "  <tbody>\n",
              "    <tr>\n",
              "      <th>0</th>\n",
              "      <td>0</td>\n",
              "      <td>Albania</td>\n",
              "      <td>1987</td>\n",
              "      <td>male</td>\n",
              "      <td>15-24 years</td>\n",
              "      <td>21</td>\n",
              "      <td>312900</td>\n",
              "      <td>Albania1987</td>\n",
              "      <td>NaN</td>\n",
              "      <td>2,156,624,900</td>\n",
              "      <td>796</td>\n",
              "      <td>Generation X</td>\n",
              "    </tr>\n",
              "    <tr>\n",
              "      <th>1</th>\n",
              "      <td>1</td>\n",
              "      <td>Albania</td>\n",
              "      <td>1987</td>\n",
              "      <td>male</td>\n",
              "      <td>35-54 years</td>\n",
              "      <td>16</td>\n",
              "      <td>308000</td>\n",
              "      <td>Albania1987</td>\n",
              "      <td>NaN</td>\n",
              "      <td>2,156,624,900</td>\n",
              "      <td>796</td>\n",
              "      <td>Silent</td>\n",
              "    </tr>\n",
              "    <tr>\n",
              "      <th>2</th>\n",
              "      <td>2</td>\n",
              "      <td>Albania</td>\n",
              "      <td>1987</td>\n",
              "      <td>female</td>\n",
              "      <td>15-24 years</td>\n",
              "      <td>14</td>\n",
              "      <td>289700</td>\n",
              "      <td>Albania1987</td>\n",
              "      <td>NaN</td>\n",
              "      <td>2,156,624,900</td>\n",
              "      <td>796</td>\n",
              "      <td>Generation X</td>\n",
              "    </tr>\n",
              "    <tr>\n",
              "      <th>3</th>\n",
              "      <td>3</td>\n",
              "      <td>Albania</td>\n",
              "      <td>1987</td>\n",
              "      <td>male</td>\n",
              "      <td>75+ years</td>\n",
              "      <td>1</td>\n",
              "      <td>21800</td>\n",
              "      <td>Albania1987</td>\n",
              "      <td>NaN</td>\n",
              "      <td>2,156,624,900</td>\n",
              "      <td>796</td>\n",
              "      <td>G.I. Generation</td>\n",
              "    </tr>\n",
              "    <tr>\n",
              "      <th>4</th>\n",
              "      <td>4</td>\n",
              "      <td>Albania</td>\n",
              "      <td>1987</td>\n",
              "      <td>male</td>\n",
              "      <td>25-34 years</td>\n",
              "      <td>9</td>\n",
              "      <td>274300</td>\n",
              "      <td>Albania1987</td>\n",
              "      <td>NaN</td>\n",
              "      <td>2,156,624,900</td>\n",
              "      <td>796</td>\n",
              "      <td>Boomers</td>\n",
              "    </tr>\n",
              "  </tbody>\n",
              "</table>\n",
              "</div>\n",
              "      <button class=\"colab-df-convert\" onclick=\"convertToInteractive('df-835a64ae-cff0-4690-b285-338e05bd15f4')\"\n",
              "              title=\"Convert this dataframe to an interactive table.\"\n",
              "              style=\"display:none;\">\n",
              "        \n",
              "  <svg xmlns=\"http://www.w3.org/2000/svg\" height=\"24px\"viewBox=\"0 0 24 24\"\n",
              "       width=\"24px\">\n",
              "    <path d=\"M0 0h24v24H0V0z\" fill=\"none\"/>\n",
              "    <path d=\"M18.56 5.44l.94 2.06.94-2.06 2.06-.94-2.06-.94-.94-2.06-.94 2.06-2.06.94zm-11 1L8.5 8.5l.94-2.06 2.06-.94-2.06-.94L8.5 2.5l-.94 2.06-2.06.94zm10 10l.94 2.06.94-2.06 2.06-.94-2.06-.94-.94-2.06-.94 2.06-2.06.94z\"/><path d=\"M17.41 7.96l-1.37-1.37c-.4-.4-.92-.59-1.43-.59-.52 0-1.04.2-1.43.59L10.3 9.45l-7.72 7.72c-.78.78-.78 2.05 0 2.83L4 21.41c.39.39.9.59 1.41.59.51 0 1.02-.2 1.41-.59l7.78-7.78 2.81-2.81c.8-.78.8-2.07 0-2.86zM5.41 20L4 18.59l7.72-7.72 1.47 1.35L5.41 20z\"/>\n",
              "  </svg>\n",
              "      </button>\n",
              "      \n",
              "  <style>\n",
              "    .colab-df-container {\n",
              "      display:flex;\n",
              "      flex-wrap:wrap;\n",
              "      gap: 12px;\n",
              "    }\n",
              "\n",
              "    .colab-df-convert {\n",
              "      background-color: #E8F0FE;\n",
              "      border: none;\n",
              "      border-radius: 50%;\n",
              "      cursor: pointer;\n",
              "      display: none;\n",
              "      fill: #1967D2;\n",
              "      height: 32px;\n",
              "      padding: 0 0 0 0;\n",
              "      width: 32px;\n",
              "    }\n",
              "\n",
              "    .colab-df-convert:hover {\n",
              "      background-color: #E2EBFA;\n",
              "      box-shadow: 0px 1px 2px rgba(60, 64, 67, 0.3), 0px 1px 3px 1px rgba(60, 64, 67, 0.15);\n",
              "      fill: #174EA6;\n",
              "    }\n",
              "\n",
              "    [theme=dark] .colab-df-convert {\n",
              "      background-color: #3B4455;\n",
              "      fill: #D2E3FC;\n",
              "    }\n",
              "\n",
              "    [theme=dark] .colab-df-convert:hover {\n",
              "      background-color: #434B5C;\n",
              "      box-shadow: 0px 1px 3px 1px rgba(0, 0, 0, 0.15);\n",
              "      filter: drop-shadow(0px 1px 2px rgba(0, 0, 0, 0.3));\n",
              "      fill: #FFFFFF;\n",
              "    }\n",
              "  </style>\n",
              "\n",
              "      <script>\n",
              "        const buttonEl =\n",
              "          document.querySelector('#df-835a64ae-cff0-4690-b285-338e05bd15f4 button.colab-df-convert');\n",
              "        buttonEl.style.display =\n",
              "          google.colab.kernel.accessAllowed ? 'block' : 'none';\n",
              "\n",
              "        async function convertToInteractive(key) {\n",
              "          const element = document.querySelector('#df-835a64ae-cff0-4690-b285-338e05bd15f4');\n",
              "          const dataTable =\n",
              "            await google.colab.kernel.invokeFunction('convertToInteractive',\n",
              "                                                     [key], {});\n",
              "          if (!dataTable) return;\n",
              "\n",
              "          const docLinkHtml = 'Like what you see? Visit the ' +\n",
              "            '<a target=\"_blank\" href=https://colab.research.google.com/notebooks/data_table.ipynb>data table notebook</a>'\n",
              "            + ' to learn more about interactive tables.';\n",
              "          element.innerHTML = '';\n",
              "          dataTable['output_type'] = 'display_data';\n",
              "          await google.colab.output.renderOutput(dataTable, element);\n",
              "          const docLink = document.createElement('div');\n",
              "          docLink.innerHTML = docLinkHtml;\n",
              "          element.appendChild(docLink);\n",
              "        }\n",
              "      </script>\n",
              "    </div>\n",
              "  </div>\n",
              "  "
            ]
          },
          "metadata": {},
          "execution_count": 5
        }
      ]
    },
    {
      "cell_type": "markdown",
      "source": [
        "Countries\n",
        "The original data set contains data from more than 100 countries during 1985-2016. I've decided to limit the number of countries to make the analysis more insightful. I've chosen 40 countries from different parts of the world that I believe are a good sample of the different regions."
      ],
      "metadata": {
        "id": "EnXK00ahF3zl"
      }
    },
    {
      "cell_type": "code",
      "source": [
        "countrynames = [\n",
        "    'Argentina',\n",
        "    'Armenia',\n",
        "    'Australia',\n",
        "    'Austria',\n",
        "    'Belgium',\n",
        "    'Brazil',\n",
        "    'Bulgaria',\n",
        "    'Canada',\n",
        "    'Chile',\n",
        "    'Colombia',\n",
        "    'Croatia',\n",
        "    'Cuba',\n",
        "    'Czech Republic',\n",
        "    'Denmark',\n",
        "    'Finland',\n",
        "    'France',\n",
        "    'Germany',\n",
        "    'Greece',\n",
        "    'Hungary',\n",
        "    'Iceland',\n",
        "    'Ireland',\n",
        "    'Israel',\n",
        "    'Italy',\n",
        "    'Japan',\n",
        "    'Mexico',\n",
        "    'Netherlands',\n",
        "    'New Zealand',\n",
        "    'Norway',\n",
        "    \n",
        "    'Portugal',\n",
        "    'Romania',\n",
        "    'Russian Federation',\n",
        "    'South Africa',\n",
        "    'Spain',\n",
        "    'Sweden',\n",
        "    'Switzerland',\n",
        "    'Thailand', \n",
        "    'Turkmenistan',\n",
        "    'Ukraine',\n",
        "    'United Kingdom', \n",
        "    'United States']"
      ],
      "metadata": {
        "id": "NtBtyDX3GLd6"
      },
      "execution_count": 6,
      "outputs": []
    },
    {
      "cell_type": "code",
      "source": [
        "countrynames = list(data['country'].unique())\n",
        "countrynames"
      ],
      "metadata": {
        "colab": {
          "base_uri": "https://localhost:8080/"
        },
        "id": "ji1a5zQifRXK",
        "outputId": "0ae90cb1-5f8f-4ca3-971c-e8addad36a9d"
      },
      "execution_count": 7,
      "outputs": [
        {
          "output_type": "execute_result",
          "data": {
            "text/plain": [
              "['Albania',\n",
              " 'Antigua and Barbuda',\n",
              " 'Argentina',\n",
              " 'Armenia',\n",
              " 'Aruba',\n",
              " 'Australia',\n",
              " 'Austria',\n",
              " 'Azerbaijan',\n",
              " 'Bahamas',\n",
              " 'Bahrain',\n",
              " 'Barbados',\n",
              " 'Belarus',\n",
              " 'Belgium',\n",
              " 'Belize',\n",
              " 'Bosnia and Herzegovina',\n",
              " 'Brazil',\n",
              " 'Bulgaria',\n",
              " 'Cabo Verde',\n",
              " 'Canada',\n",
              " 'Chile',\n",
              " 'Colombia',\n",
              " 'Costa Rica',\n",
              " 'Croatia',\n",
              " 'Cuba',\n",
              " 'Cyprus',\n",
              " 'Czech Republic',\n",
              " 'Denmark',\n",
              " 'Dominica',\n",
              " 'Ecuador',\n",
              " 'El Salvador',\n",
              " 'Estonia',\n",
              " 'Fiji',\n",
              " 'Finland',\n",
              " 'France',\n",
              " 'Georgia',\n",
              " 'Germany',\n",
              " 'Greece',\n",
              " 'Grenada',\n",
              " 'Guatemala',\n",
              " 'Guyana',\n",
              " 'Hungary',\n",
              " 'Iceland',\n",
              " 'Ireland',\n",
              " 'Israel',\n",
              " 'Italy',\n",
              " 'Jamaica',\n",
              " 'Japan',\n",
              " 'Kazakhstan',\n",
              " 'Kiribati',\n",
              " 'Kuwait',\n",
              " 'Kyrgyzstan',\n",
              " 'Latvia',\n",
              " 'Lithuania',\n",
              " 'Luxembourg',\n",
              " 'Macau',\n",
              " 'Maldives',\n",
              " 'Malta',\n",
              " 'Mauritius',\n",
              " 'Mexico',\n",
              " 'Mongolia',\n",
              " 'Montenegro',\n",
              " 'Netherlands',\n",
              " 'New Zealand',\n",
              " 'Nicaragua',\n",
              " 'Norway']"
            ]
          },
          "metadata": {},
          "execution_count": 7
        }
      ]
    },
    {
      "cell_type": "markdown",
      "source": [
        "Also, the extra data from the WDI database was only available for 1995-2013, so I decided to limit the data to this time period."
      ],
      "metadata": {
        "id": "2J0xM7AoGVwX"
      }
    },
    {
      "cell_type": "code",
      "source": [
        "df1 = data.copy()\n",
        "df = df1.iloc[np.where(df1.country == countrynames[0])]\n",
        "for i, x in enumerate(countrynames[1:]):\n",
        "    df = df.append(df1.iloc[np.where(df1.country == x)])\n",
        "\n",
        "df = df[df.year >= 1995]\n",
        "df = df[df.year <= 2013]"
      ],
      "metadata": {
        "id": "tVjTesS5GYdV"
      },
      "execution_count": 8,
      "outputs": []
    },
    {
      "cell_type": "markdown",
      "source": [
        "Exploratory Data Analysis"
      ],
      "metadata": {
        "id": "PUXFnJh4N5YD"
      }
    },
    {
      "cell_type": "code",
      "source": [
        "col = plt.cm.Spectral(np.linspace(0, 1, 20))\n",
        "\n",
        "plt.figure(figsize=(8, 6))\n",
        "\n",
        "agedistf = pd.DataFrame(df.groupby('sex').get_group('female').groupby('age').suicides_no.sum())\n",
        "\n",
        "\n",
        "agedistm = pd.DataFrame(df.groupby('sex').get_group('male').groupby('age').suicides_no.sum())\n",
        "\n",
        "plt.bar(agedistm.index, agedistm.suicides_no, color=col[18])\n",
        "plt.bar(agedistf.index, agedistf.suicides_no, color=col[7])\n",
        "plt.legend(['male', 'female'], fontsize=16)\n",
        "plt.ylabel('Count', fontsize=14)\n",
        "plt.xlabel('Suicides per 100K', fontsize=14)"
      ],
      "metadata": {
        "colab": {
          "base_uri": "https://localhost:8080/",
          "height": 410
        },
        "id": "LsnDO8MDHDUT",
        "outputId": "24b4bb68-b0e8-4897-ab80-2d9625310e69"
      },
      "execution_count": 9,
      "outputs": [
        {
          "output_type": "execute_result",
          "data": {
            "text/plain": [
              "Text(0.5, 0, 'Suicides per 100K')"
            ]
          },
          "metadata": {},
          "execution_count": 9
        },
        {
          "output_type": "display_data",
          "data": {
            "text/plain": [
              "<Figure size 576x432 with 1 Axes>"
            ],
            "image/png": "[encoded data removed]"
          },
          "metadata": {
            "needs_background": "light"
          }
        }
      ]
    },
    {
      "cell_type": "code",
      "source": [
        "df.info()"
      ],
      "metadata": {
        "colab": {
          "base_uri": "https://localhost:8080/"
        },
        "id": "waUwwk0pRpCy",
        "outputId": "1cc0f374-daa0-4bc0-b120-4e38e889f2de"
      },
      "execution_count": 10,
      "outputs": [
        {
          "output_type": "stream",
          "name": "stdout",
          "text": [
            "<class 'pandas.core.frame.DataFrame'>\n",
            "Int64Index: 12263 entries, 72 to 18082\n",
            "Data columns (total 12 columns):\n",
            " #   Column              Non-Null Count  Dtype  \n",
            "---  ------              --------------  -----  \n",
            " 0   id                  12263 non-null  int64  \n",
            " 1   country             12263 non-null  object \n",
            " 2   year                12263 non-null  int64  \n",
            " 3   sex                 12263 non-null  object \n",
            " 4   age                 12263 non-null  object \n",
            " 5   suicides_no         12263 non-null  int64  \n",
            " 6   population          12263 non-null  int64  \n",
            " 7   country-year        12263 non-null  object \n",
            " 8   HDI for year        4284 non-null   float64\n",
            " 9    gdp_for_year ($)   12263 non-null  object \n",
            " 10  gdp_per_capita ($)  12263 non-null  int64  \n",
            " 11  generation          12263 non-null  object \n",
            "dtypes: float64(1), int64(5), object(6)\n",
            "memory usage: 1.2+ MB\n"
          ]
        }
      ]
    },
    {
      "cell_type": "code",
      "source": [
        "(df1[\"HDI for year\"].isnull().sum() / data.shape[0]) *100"
      ],
      "metadata": {
        "colab": {
          "base_uri": "https://localhost:8080/"
        },
        "id": "MNQxF1RfRrUz",
        "outputId": "58fcdcab-8524-4905-9b70-235668a80b0b"
      },
      "execution_count": 11,
      "outputs": [
        {
          "output_type": "execute_result",
          "data": {
            "text/plain": [
              "68.9432063263839"
            ]
          },
          "metadata": {},
          "execution_count": 11
        }
      ]
    },
    {
      "cell_type": "code",
      "source": [
        "df1.info()"
      ],
      "metadata": {
        "colab": {
          "base_uri": "https://localhost:8080/"
        },
        "id": "2cI-uUKPTEyW",
        "outputId": "e2e76236-00ac-449b-cbaf-5b437241430c"
      },
      "execution_count": 12,
      "outputs": [
        {
          "output_type": "stream",
          "name": "stdout",
          "text": [
            "<class 'pandas.core.frame.DataFrame'>\n",
            "RangeIndex: 18083 entries, 0 to 18082\n",
            "Data columns (total 12 columns):\n",
            " #   Column              Non-Null Count  Dtype  \n",
            "---  ------              --------------  -----  \n",
            " 0   id                  18083 non-null  int64  \n",
            " 1   country             18083 non-null  object \n",
            " 2   year                18083 non-null  int64  \n",
            " 3   sex                 18083 non-null  object \n",
            " 4   age                 18083 non-null  object \n",
            " 5   suicides_no         18083 non-null  int64  \n",
            " 6   population          18083 non-null  int64  \n",
            " 7   country-year        18083 non-null  object \n",
            " 8   HDI for year        5616 non-null   float64\n",
            " 9    gdp_for_year ($)   18083 non-null  object \n",
            " 10  gdp_per_capita ($)  18083 non-null  int64  \n",
            " 11  generation          18083 non-null  object \n",
            "dtypes: float64(1), int64(5), object(6)\n",
            "memory usage: 1.7+ MB\n"
          ]
        }
      ]
    },
    {
      "cell_type": "code",
      "source": [
        "data.isnull().sum()"
      ],
      "metadata": {
        "colab": {
          "base_uri": "https://localhost:8080/"
        },
        "id": "LQAYfeTeRrJy",
        "outputId": "b2a7400c-67ab-4d0e-a4e3-eed276b7fbda"
      },
      "execution_count": 13,
      "outputs": [
        {
          "output_type": "execute_result",
          "data": {
            "text/plain": [
              "id                        0\n",
              "country                   0\n",
              "year                      0\n",
              "sex                       0\n",
              "age                       0\n",
              "suicides_no               0\n",
              "population                0\n",
              "country-year              0\n",
              "HDI for year          12467\n",
              " gdp_for_year ($)         0\n",
              "gdp_per_capita ($)        0\n",
              "generation                0\n",
              "dtype: int64"
            ]
          },
          "metadata": {},
          "execution_count": 13
        }
      ]
    },
    {
      "cell_type": "code",
      "source": [
        "plt.figure(figsize=(12, 15))\n",
        "\n",
        "\n",
        "plt.subplot(211)\n",
        "data.groupby(['country']).suicides_no.mean().nlargest(10).plot(kind='barh')\n",
        "plt.xlabel('Average Suicides/100k', size=20)\n",
        "plt.ylabel('Country', fontsize=20)\n",
        "plt.title('Top 10 countries', fontsize=30)"
      ],
      "metadata": {
        "colab": {
          "base_uri": "https://localhost:8080/",
          "height": 489
        },
        "id": "OFsBcdUwQg4s",
        "outputId": "910c8fe3-7b56-48a1-9dea-3f5199aef458"
      },
      "execution_count": 14,
      "outputs": [
        {
          "output_type": "execute_result",
          "data": {
            "text/plain": [
              "Text(0.5, 1.0, 'Top 10 countries')"
            ]
          },
          "metadata": {},
          "execution_count": 14
        },
        {
          "output_type": "display_data",
          "data": {
            "text/plain": [
              "<Figure size 864x1080 with 1 Axes>"
            ],
            "image/png": "[encoded data removed]"
          },
          "metadata": {
            "needs_background": "light"
          }
        }
      ]
    },
    {
      "cell_type": "code",
      "source": [
        "plt.figure(figsize=(10, 16))\n",
        "\n",
        "plt.subplot(311)\n",
        "\n",
        "sns.barplot(x='sex', y='population', hue='age', data=df, palette=\"Blues\")\n",
        "plt.xticks(ha='right', fontsize=20)\n",
        "plt.ylabel('Population', fontsize=20)\n",
        "plt.xlabel('Sex', fontsize=20)\n",
        "plt.legend(fontsize=14, loc='best')\n",
        "\n",
        "plt.subplot(313)\n",
        "\n",
        "sns.barplot(x='sex', y='suicides_no', hue='age', data=df,palette=\"Blues\")\n",
        "plt.xticks(ha='right', fontsize=20);\n",
        "plt.ylabel('suicidesper100k',fontsize=20);\n",
        "plt.xlabel('Sex',fontsize=20);\n",
        "plt.legend(fontsize=14);\n",
        "\n",
        "plt.subplot(312)\n",
        "sns.barplot(x='sex', y='suicides_no', hue='age', data=df, palette=\"Blues\")\n",
        "plt.xticks(ha='right', fontsize=20)\n",
        "plt.ylabel('suicides incidences', fontsize=20)\n",
        "plt.xlabel('Sex', fontsize=20)\n",
        "plt.legend(fontsize=14)"
      ],
      "metadata": {
        "colab": {
          "base_uri": "https://localhost:8080/",
          "height": 979
        },
        "id": "hC6P11RGQCLb",
        "outputId": "b59a210a-3207-44ee-8294-03362a8de42a"
      },
      "execution_count": 15,
      "outputs": [
        {
          "output_type": "execute_result",
          "data": {
            "text/plain": [
              "<matplotlib.legend.Legend at 0x7f0986184550>"
            ]
          },
          "metadata": {},
          "execution_count": 15
        },
        {
          "output_type": "display_data",
          "data": {
            "text/plain": [
              "<Figure size 720x1152 with 3 Axes>"
            ],
            "image/png": "[encoded data removed]"
          },
          "metadata": {
            "needs_background": "light"
          }
        }
      ]
    },
    {
      "cell_type": "code",
      "source": [
        "year = data.groupby('year').year.unique()\n",
        "\n",
        "plt.figure(figsize=(6, 5))\n",
        "\n",
        "totalpyear = pd.DataFrame(data.groupby('year').suicides_no.sum())\n",
        "\n",
        "plt.plot(year.index[0:31], totalpyear[0:31])\n",
        "plt.xlabel('year', fontsize=14)\n",
        "plt.ylabel('Total number of suicides in the world', fontsize=14)"
      ],
      "metadata": {
        "colab": {
          "base_uri": "https://localhost:8080/",
          "height": 356
        },
        "id": "k19ppME-RwXy",
        "outputId": "d9597dbb-c38e-46c6-bd3c-1c606da815aa"
      },
      "execution_count": 16,
      "outputs": [
        {
          "output_type": "execute_result",
          "data": {
            "text/plain": [
              "Text(0, 0.5, 'Total number of suicides in the world')"
            ]
          },
          "metadata": {},
          "execution_count": 16
        },
        {
          "output_type": "display_data",
          "data": {
            "text/plain": [
              "<Figure size 432x360 with 1 Axes>"
            ],
            "image/png": "[encoded data removed]"
          },
          "metadata": {
            "needs_background": "light"
          }
        }
      ]
    },
    {
      "cell_type": "code",
      "source": [
        "plt.figure(figsize=(20, 8))\n",
        "plt.subplot(121)\n",
        "plt.hist(df.suicides_no, bins=30)\n",
        "plt.xlabel('Suicides per 100K of population', fontsize=14)\n",
        "plt.ylabel('count', fontsize=14)\n",
        "\n",
        "plt.subplot(122)\n",
        "plt.hist(df.suicides_no, bins=30)\n",
        "plt.xlabel('gdp_per_capita', fontsize=14)\n",
        "plt.ylabel('count', fontsize=14)"
      ],
      "metadata": {
        "colab": {
          "base_uri": "https://localhost:8080/",
          "height": 519
        },
        "id": "yAAHuFV1SCPU",
        "outputId": "da2b81f6-11bc-4bdc-91ac-eccda15bdd4d"
      },
      "execution_count": 17,
      "outputs": [
        {
          "output_type": "execute_result",
          "data": {
            "text/plain": [
              "Text(0, 0.5, 'count')"
            ]
          },
          "metadata": {},
          "execution_count": 17
        },
        {
          "output_type": "display_data",
          "data": {
            "text/plain": [
              "<Figure size 1440x576 with 2 Axes>"
            ],
            "image/png": "[encoded data removed]"
          },
          "metadata": {
            "needs_background": "light"
          }
        }
      ]
    },
    {
      "cell_type": "markdown",
      "source": [
        "\n",
        "From all the extra features added from the WDI database, I'm using 11 features for exploring. These are basically the features with fewer null values.\n",
        "totalfeatures: 'country', 'year','gdp_for_year ($)',gdp_per_capita ($)'.\n",
        "I'm aslo lifting the fine subsample level of sex and age group. I'm creating a new pandas data frame \"total\", with a new column \"suicides\" as the total value of sucides_no of population per country per year, calculated by summing over both sexes and age groups."
      ],
      "metadata": {
        "id": "VPvciGx4TMJS"
      }
    },
    {
      "cell_type": "code",
      "source": [
        "countrynames = list(df['country'].unique())"
      ],
      "metadata": {
        "id": "Ct00oEWHcirb"
      },
      "execution_count": 18,
      "outputs": []
    },
    {
      "cell_type": "code",
      "source": [
        "features = ['country', 'year',' gdp_for_year ($) ',\n",
        "           'gdp_per_capita ($)']\n",
        "\n",
        "total = df[features].groupby('country').get_group(countrynames[0]).groupby('year').mean()\n",
        "total['Suicides'] = df[['country', 'year', 'suicides_no']].groupby('country').get_group(countrynames[0]).groupby('year').sum()\n",
        "total['population'] = df[['country', 'year', 'population']].groupby('country').get_group(countrynames[0]).groupby('year').sum()\n",
        "\n",
        "total['country'] = countrynames[0]\n",
        "\n",
        "for i, x in enumerate(countrynames[1:]):\n",
        "    suicides = df[features].groupby('country').get_group(x).groupby('year').mean()\n",
        "    suicides['Suicides'] = df[['country', 'year', 'suicides_no']].groupby('country').get_group(x).groupby('year').sum()\n",
        "    total['population'] = df[['country', 'year', 'population']].groupby('country').get_group(x).groupby('year').sum()\n",
        "  \n",
        "    suicides['country'] = x\n",
        "    total = total.append(suicides)\n",
        "\n",
        "total.reset_index(inplace=True)\n",
        "sort = True"
      ],
      "metadata": {
        "id": "iT6WEo1eTO21"
      },
      "execution_count": 19,
      "outputs": []
    },
    {
      "cell_type": "code",
      "source": [
        "total"
      ],
      "metadata": {
        "colab": {
          "base_uri": "https://localhost:8080/",
          "height": 423
        },
        "id": "pi9gXw3Y2k-p",
        "outputId": "60eff697-0689-402d-e9e8-424584de4e37"
      },
      "execution_count": 20,
      "outputs": [
        {
          "output_type": "execute_result",
          "data": {
            "text/plain": [
              "      year  gdp_per_capita ($)  Suicides  population  country\n",
              "0     1995               835.0        88   4055900.0  Albania\n",
              "1     1996              1127.0        89   4078000.0  Albania\n",
              "2     1997               793.0       170   4102100.0  Albania\n",
              "3     1998               899.0       154   4129400.0  Albania\n",
              "4     1999              1127.0       139   4159745.0  Albania\n",
              "...    ...                 ...       ...         ...      ...\n",
              "1017  1999             39013.0       583         NaN   Norway\n",
              "1018  2000             41099.0       541         NaN   Norway\n",
              "1019  2001             41281.0       549         NaN   Norway\n",
              "1020  2002             46049.0       494         NaN   Norway\n",
              "1021  2003             53533.0       499         NaN   Norway\n",
              "\n",
              "[1022 rows x 5 columns]"
            ],
            "text/html": [
              "\n",
              "  <div id=\"df-123a8473-0912-4a7b-a86d-3905dd9d83fe\">\n",
              "    <div class=\"colab-df-container\">\n",
              "      <div>\n",
              "<style scoped>\n",
              "    .dataframe tbody tr th:only-of-type {\n",
              "        vertical-align: middle;\n",
              "    }\n",
              "\n",
              "    .dataframe tbody tr th {\n",
              "        vertical-align: top;\n",
              "    }\n",
              "\n",
              "    .dataframe thead th {\n",
              "        text-align: right;\n",
              "    }\n",
              "</style>\n",
              "<table border=\"1\" class=\"dataframe\">\n",
              "  <thead>\n",
              "    <tr style=\"text-align: right;\">\n",
              "      <th></th>\n",
              "      <th>year</th>\n",
              "      <th>gdp_per_capita ($)</th>\n",
              "      <th>Suicides</th>\n",
              "      <th>population</th>\n",
              "      <th>country</th>\n",
              "    </tr>\n",
              "  </thead>\n",
              "  <tbody>\n",
              "    <tr>\n",
              "      <th>0</th>\n",
              "      <td>1995</td>\n",
              "      <td>835.0</td>\n",
              "      <td>88</td>\n",
              "      <td>4055900.0</td>\n",
              "      <td>Albania</td>\n",
              "    </tr>\n",
              "    <tr>\n",
              "      <th>1</th>\n",
              "      <td>1996</td>\n",
              "      <td>1127.0</td>\n",
              "      <td>89</td>\n",
              "      <td>4078000.0</td>\n",
              "      <td>Albania</td>\n",
              "    </tr>\n",
              "    <tr>\n",
              "      <th>2</th>\n",
              "      <td>1997</td>\n",
              "      <td>793.0</td>\n",
              "      <td>170</td>\n",
              "      <td>4102100.0</td>\n",
              "      <td>Albania</td>\n",
              "    </tr>\n",
              "    <tr>\n",
              "      <th>3</th>\n",
              "      <td>1998</td>\n",
              "      <td>899.0</td>\n",
              "      <td>154</td>\n",
              "      <td>4129400.0</td>\n",
              "      <td>Albania</td>\n",
              "    </tr>\n",
              "    <tr>\n",
              "      <th>4</th>\n",
              "      <td>1999</td>\n",
              "      <td>1127.0</td>\n",
              "      <td>139</td>\n",
              "      <td>4159745.0</td>\n",
              "      <td>Albania</td>\n",
              "    </tr>\n",
              "    <tr>\n",
              "      <th>...</th>\n",
              "      <td>...</td>\n",
              "      <td>...</td>\n",
              "      <td>...</td>\n",
              "      <td>...</td>\n",
              "      <td>...</td>\n",
              "    </tr>\n",
              "    <tr>\n",
              "      <th>1017</th>\n",
              "      <td>1999</td>\n",
              "      <td>39013.0</td>\n",
              "      <td>583</td>\n",
              "      <td>NaN</td>\n",
              "      <td>Norway</td>\n",
              "    </tr>\n",
              "    <tr>\n",
              "      <th>1018</th>\n",
              "      <td>2000</td>\n",
              "      <td>41099.0</td>\n",
              "      <td>541</td>\n",
              "      <td>NaN</td>\n",
              "      <td>Norway</td>\n",
              "    </tr>\n",
              "    <tr>\n",
              "      <th>1019</th>\n",
              "      <td>2001</td>\n",
              "      <td>41281.0</td>\n",
              "      <td>549</td>\n",
              "      <td>NaN</td>\n",
              "      <td>Norway</td>\n",
              "    </tr>\n",
              "    <tr>\n",
              "      <th>1020</th>\n",
              "      <td>2002</td>\n",
              "      <td>46049.0</td>\n",
              "      <td>494</td>\n",
              "      <td>NaN</td>\n",
              "      <td>Norway</td>\n",
              "    </tr>\n",
              "    <tr>\n",
              "      <th>1021</th>\n",
              "      <td>2003</td>\n",
              "      <td>53533.0</td>\n",
              "      <td>499</td>\n",
              "      <td>NaN</td>\n",
              "      <td>Norway</td>\n",
              "    </tr>\n",
              "  </tbody>\n",
              "</table>\n",
              "<p>1022 rows × 5 columns</p>\n",
              "</div>\n",
              "      <button class=\"colab-df-convert\" onclick=\"convertToInteractive('df-123a8473-0912-4a7b-a86d-3905dd9d83fe')\"\n",
              "              title=\"Convert this dataframe to an interactive table.\"\n",
              "              style=\"display:none;\">\n",
              "        \n",
              "  <svg xmlns=\"http://www.w3.org/2000/svg\" height=\"24px\"viewBox=\"0 0 24 24\"\n",
              "       width=\"24px\">\n",
              "    <path d=\"M0 0h24v24H0V0z\" fill=\"none\"/>\n",
              "    <path d=\"M18.56 5.44l.94 2.06.94-2.06 2.06-.94-2.06-.94-.94-2.06-.94 2.06-2.06.94zm-11 1L8.5 8.5l.94-2.06 2.06-.94-2.06-.94L8.5 2.5l-.94 2.06-2.06.94zm10 10l.94 2.06.94-2.06 2.06-.94-2.06-.94-.94-2.06-.94 2.06-2.06.94z\"/><path d=\"M17.41 7.96l-1.37-1.37c-.4-.4-.92-.59-1.43-.59-.52 0-1.04.2-1.43.59L10.3 9.45l-7.72 7.72c-.78.78-.78 2.05 0 2.83L4 21.41c.39.39.9.59 1.41.59.51 0 1.02-.2 1.41-.59l7.78-7.78 2.81-2.81c.8-.78.8-2.07 0-2.86zM5.41 20L4 18.59l7.72-7.72 1.47 1.35L5.41 20z\"/>\n",
              "  </svg>\n",
              "      </button>\n",
              "      \n",
              "  <style>\n",
              "    .colab-df-container {\n",
              "      display:flex;\n",
              "      flex-wrap:wrap;\n",
              "      gap: 12px;\n",
              "    }\n",
              "\n",
              "    .colab-df-convert {\n",
              "      background-color: #E8F0FE;\n",
              "      border: none;\n",
              "      border-radius: 50%;\n",
              "      cursor: pointer;\n",
              "      display: none;\n",
              "      fill: #1967D2;\n",
              "      height: 32px;\n",
              "      padding: 0 0 0 0;\n",
              "      width: 32px;\n",
              "    }\n",
              "\n",
              "    .colab-df-convert:hover {\n",
              "      background-color: #E2EBFA;\n",
              "      box-shadow: 0px 1px 2px rgba(60, 64, 67, 0.3), 0px 1px 3px 1px rgba(60, 64, 67, 0.15);\n",
              "      fill: #174EA6;\n",
              "    }\n",
              "\n",
              "    [theme=dark] .colab-df-convert {\n",
              "      background-color: #3B4455;\n",
              "      fill: #D2E3FC;\n",
              "    }\n",
              "\n",
              "    [theme=dark] .colab-df-convert:hover {\n",
              "      background-color: #434B5C;\n",
              "      box-shadow: 0px 1px 3px 1px rgba(0, 0, 0, 0.15);\n",
              "      filter: drop-shadow(0px 1px 2px rgba(0, 0, 0, 0.3));\n",
              "      fill: #FFFFFF;\n",
              "    }\n",
              "  </style>\n",
              "\n",
              "      <script>\n",
              "        const buttonEl =\n",
              "          document.querySelector('#df-123a8473-0912-4a7b-a86d-3905dd9d83fe button.colab-df-convert');\n",
              "        buttonEl.style.display =\n",
              "          google.colab.kernel.accessAllowed ? 'block' : 'none';\n",
              "\n",
              "        async function convertToInteractive(key) {\n",
              "          const element = document.querySelector('#df-123a8473-0912-4a7b-a86d-3905dd9d83fe');\n",
              "          const dataTable =\n",
              "            await google.colab.kernel.invokeFunction('convertToInteractive',\n",
              "                                                     [key], {});\n",
              "          if (!dataTable) return;\n",
              "\n",
              "          const docLinkHtml = 'Like what you see? Visit the ' +\n",
              "            '<a target=\"_blank\" href=https://colab.research.google.com/notebooks/data_table.ipynb>data table notebook</a>'\n",
              "            + ' to learn more about interactive tables.';\n",
              "          element.innerHTML = '';\n",
              "          dataTable['output_type'] = 'display_data';\n",
              "          await google.colab.output.renderOutput(dataTable, element);\n",
              "          const docLink = document.createElement('div');\n",
              "          docLink.innerHTML = docLinkHtml;\n",
              "          element.appendChild(docLink);\n",
              "        }\n",
              "      </script>\n",
              "    </div>\n",
              "  </div>\n",
              "  "
            ]
          },
          "metadata": {},
          "execution_count": 20
        }
      ]
    },
    {
      "cell_type": "code",
      "source": [
        "totalfeatures = ['country', 'year', 'gdp_for_year($)', 'gdp_per_capita($)']"
      ],
      "metadata": {
        "id": "c6qyNV7nq-rv"
      },
      "execution_count": 21,
      "outputs": []
    },
    {
      "cell_type": "code",
      "source": [
        "df['country'].value_counts()"
      ],
      "metadata": {
        "colab": {
          "base_uri": "https://localhost:8080/"
        },
        "id": "GPjwVrOjestm",
        "outputId": "4f5b5b9d-d0d1-4d4a-ca48-657aab6b84e1"
      },
      "execution_count": 22,
      "outputs": [
        {
          "output_type": "execute_result",
          "data": {
            "text/plain": [
              "Finland                   228\n",
              "France                    228\n",
              "Lithuania                 228\n",
              "Czech Republic            228\n",
              "Denmark                   228\n",
              "                         ... \n",
              "Norway                    107\n",
              "Kiribati                   84\n",
              "Nicaragua                  48\n",
              "Bosnia and Herzegovina     12\n",
              "Cabo Verde                 12\n",
              "Name: country, Length: 62, dtype: int64"
            ]
          },
          "metadata": {},
          "execution_count": 22
        }
      ]
    },
    {
      "cell_type": "code",
      "source": [
        "total.columns"
      ],
      "metadata": {
        "colab": {
          "base_uri": "https://localhost:8080/"
        },
        "id": "K5pnwFxchI1h",
        "outputId": "18800a7f-1aca-4607-fb09-a23e9ece2456"
      },
      "execution_count": 23,
      "outputs": [
        {
          "output_type": "execute_result",
          "data": {
            "text/plain": [
              "Index(['year', 'gdp_per_capita ($)', 'Suicides', 'population', 'country'], dtype='object')"
            ]
          },
          "metadata": {},
          "execution_count": 23
        }
      ]
    },
    {
      "cell_type": "code",
      "source": [
        "plt.figure(figsize=(20, 8))\n",
        "plt.subplot(121)\n",
        "sns.distplot(total.Suicides, bins=15)\n",
        "plt.xlabel('total Suicides (summed over sex and age group) per 100K of population', fontsize=14)\n",
        "\n",
        "plt.subplot(122)\n",
        "plt.hist(total['gdp_per_capita ($)'], bins=30)\n",
        "plt.xlabel('GDP', fontsize=14)"
      ],
      "metadata": {
        "colab": {
          "base_uri": "https://localhost:8080/",
          "height": 576
        },
        "id": "PpggkhnEVrcV",
        "outputId": "c247a3bd-53a5-44e2-eb1e-8499226458f0"
      },
      "execution_count": 24,
      "outputs": [
        {
          "output_type": "stream",
          "name": "stderr",
          "text": [
            "/usr/local/lib/python3.8/dist-packages/seaborn/distributions.py:2619: FutureWarning: `distplot` is a deprecated function and will be removed in a future version. Please adapt your code to use either `displot` (a figure-level function with similar flexibility) or `histplot` (an axes-level function for histograms).\n",
            "  warnings.warn(msg, FutureWarning)\n"
          ]
        },
        {
          "output_type": "execute_result",
          "data": {
            "text/plain": [
              "Text(0.5, 0, 'GDP')"
            ]
          },
          "metadata": {},
          "execution_count": 24
        },
        {
          "output_type": "display_data",
          "data": {
            "text/plain": [
              "<Figure size 1440x576 with 2 Axes>"
            ],
            "image/png": "[encoded data removed]"
          },
          "metadata": {
            "needs_background": "light"
          }
        }
      ]
    },
    {
      "cell_type": "code",
      "source": [
        "df.columns"
      ],
      "metadata": {
        "colab": {
          "base_uri": "https://localhost:8080/"
        },
        "id": "hYWlmSAzhe-t",
        "outputId": "b414b971-5c9a-41f7-a08c-fca890bd391a"
      },
      "execution_count": 25,
      "outputs": [
        {
          "output_type": "execute_result",
          "data": {
            "text/plain": [
              "Index(['id', 'country', 'year', 'sex', 'age', 'suicides_no', 'population',\n",
              "       'country-year', 'HDI for year', ' gdp_for_year ($) ',\n",
              "       'gdp_per_capita ($)', 'generation'],\n",
              "      dtype='object')"
            ]
          },
          "metadata": {},
          "execution_count": 25
        }
      ]
    },
    {
      "cell_type": "code",
      "source": [
        "df = df.drop(columns=['HDI for year'])"
      ],
      "metadata": {
        "id": "Y3DwemmNL___"
      },
      "execution_count": 26,
      "outputs": []
    },
    {
      "cell_type": "code",
      "source": [
        "df.columns"
      ],
      "metadata": {
        "colab": {
          "base_uri": "https://localhost:8080/"
        },
        "id": "dEjRAI78MQqR",
        "outputId": "4f509a19-0aa9-4234-9c7d-0c1246f3c20b"
      },
      "execution_count": 27,
      "outputs": [
        {
          "output_type": "execute_result",
          "data": {
            "text/plain": [
              "Index(['id', 'country', 'year', 'sex', 'age', 'suicides_no', 'population',\n",
              "       'country-year', ' gdp_for_year ($) ', 'gdp_per_capita ($)',\n",
              "       'generation'],\n",
              "      dtype='object')"
            ]
          },
          "metadata": {},
          "execution_count": 27
        }
      ]
    },
    {
      "cell_type": "code",
      "source": [
        "df.info()"
      ],
      "metadata": {
        "colab": {
          "base_uri": "https://localhost:8080/"
        },
        "id": "JpXQ4AxZino0",
        "outputId": "ed445ef1-b82a-4830-c634-14d5ee971a65"
      },
      "execution_count": 28,
      "outputs": [
        {
          "output_type": "stream",
          "name": "stdout",
          "text": [
            "<class 'pandas.core.frame.DataFrame'>\n",
            "Int64Index: 12263 entries, 72 to 18082\n",
            "Data columns (total 11 columns):\n",
            " #   Column              Non-Null Count  Dtype \n",
            "---  ------              --------------  ----- \n",
            " 0   id                  12263 non-null  int64 \n",
            " 1   country             12263 non-null  object\n",
            " 2   year                12263 non-null  int64 \n",
            " 3   sex                 12263 non-null  object\n",
            " 4   age                 12263 non-null  object\n",
            " 5   suicides_no         12263 non-null  int64 \n",
            " 6   population          12263 non-null  int64 \n",
            " 7   country-year        12263 non-null  object\n",
            " 8    gdp_for_year ($)   12263 non-null  object\n",
            " 9   gdp_per_capita ($)  12263 non-null  int64 \n",
            " 10  generation          12263 non-null  object\n",
            "dtypes: int64(5), object(6)\n",
            "memory usage: 1.4+ MB\n"
          ]
        }
      ]
    },
    {
      "cell_type": "markdown",
      "source": [
        "Calculating the correlation matrix for all chosen features:"
      ],
      "metadata": {
        "id": "ZdunAK0h1zIq"
      }
    },
    {
      "cell_type": "code",
      "source": [
        "corr = total.corr()\n",
        "\n",
        "# Generate a mask for the upper triangle\n",
        "\n",
        "mask = np.zeros_like(corr, dtype=np.bool)\n",
        "mask[np.triu_indices_from(mask)] = True\n",
        "\n",
        "# Set up the matplotlib figure\n",
        "f, ax = plt.subplots(figsize=(8, 6))\n",
        "\n",
        "# Generate a custom diverging colormap\n",
        "cmap = sns.diverging_palette(220, 10, as_cmap=True)\n",
        "\n",
        "# Draw the heatmap with the mask and correct aspect ratio\n",
        "sns.heatmap(corr, mask=mask, cmap=cmap, vmax=1, vmin=-1, center=0,\n",
        "            square=True, linewidths=0.2, cbar_kws={\"shrink\": 0.8});"
      ],
      "metadata": {
        "colab": {
          "base_uri": "https://localhost:8080/",
          "height": 450
        },
        "id": "zlveLUQpnIK2",
        "outputId": "7e387d48-6673-4651-ef2e-a1293b4f90b9"
      },
      "execution_count": 29,
      "outputs": [
        {
          "output_type": "stream",
          "name": "stderr",
          "text": [
            "<ipython-input-29-1755bcf9bb97>:5: DeprecationWarning: `np.bool` is a deprecated alias for the builtin `bool`. To silence this warning, use `bool` by itself. Doing this will not modify any behavior and is safe. If you specifically wanted the numpy scalar type, use `np.bool_` here.\n",
            "Deprecated in NumPy 1.20; for more details and guidance: https://numpy.org/devdocs/release/1.20.0-notes.html#deprecations\n",
            "  mask = np.zeros_like(corr, dtype=np.bool)\n"
          ]
        },
        {
          "output_type": "display_data",
          "data": {
            "text/plain": [
              "<Figure size 576x432 with 2 Axes>"
            ],
            "image/png": "[encoded data removed]"
          },
          "metadata": {
            "needs_background": "light"
          }
        }
      ]
    },
    {
      "cell_type": "markdown",
      "source": [
        "Binary classification for suicide risk\n",
        "I decided to perform a binary classification on the suicide data, by assigning risk classes based on the suicide incidences per sucides_no of the population as high/low suicide risk. Adding an extra column to the \"total\" data frame as 'risk'.\n",
        "Suicides<mean(Suicides) --> low risk --> class 0Suicides>mean(Suicides) --> high risk --> class 1"
      ],
      "metadata": {
        "id": "g6Rl9Q7r2GO4"
      }
    },
    {
      "cell_type": "code",
      "source": [
        "total"
      ],
      "metadata": {
        "colab": {
          "base_uri": "https://localhost:8080/",
          "height": 423
        },
        "id": "UxQBdgdS2Akf",
        "outputId": "612b31df-294b-49c1-bdbd-7439e1f2d01c"
      },
      "execution_count": 30,
      "outputs": [
        {
          "output_type": "execute_result",
          "data": {
            "text/plain": [
              "      year  gdp_per_capita ($)  Suicides  population  country\n",
              "0     1995               835.0        88   4055900.0  Albania\n",
              "1     1996              1127.0        89   4078000.0  Albania\n",
              "2     1997               793.0       170   4102100.0  Albania\n",
              "3     1998               899.0       154   4129400.0  Albania\n",
              "4     1999              1127.0       139   4159745.0  Albania\n",
              "...    ...                 ...       ...         ...      ...\n",
              "1017  1999             39013.0       583         NaN   Norway\n",
              "1018  2000             41099.0       541         NaN   Norway\n",
              "1019  2001             41281.0       549         NaN   Norway\n",
              "1020  2002             46049.0       494         NaN   Norway\n",
              "1021  2003             53533.0       499         NaN   Norway\n",
              "\n",
              "[1022 rows x 5 columns]"
            ],
            "text/html": [
              "\n",
              "  <div id=\"df-490d4a99-6995-4885-8880-f069e929de3a\">\n",
              "    <div class=\"colab-df-container\">\n",
              "      <div>\n",
              "<style scoped>\n",
              "    .dataframe tbody tr th:only-of-type {\n",
              "        vertical-align: middle;\n",
              "    }\n",
              "\n",
              "    .dataframe tbody tr th {\n",
              "        vertical-align: top;\n",
              "    }\n",
              "\n",
              "    .dataframe thead th {\n",
              "        text-align: right;\n",
              "    }\n",
              "</style>\n",
              "<table border=\"1\" class=\"dataframe\">\n",
              "  <thead>\n",
              "    <tr style=\"text-align: right;\">\n",
              "      <th></th>\n",
              "      <th>year</th>\n",
              "      <th>gdp_per_capita ($)</th>\n",
              "      <th>Suicides</th>\n",
              "      <th>population</th>\n",
              "      <th>country</th>\n",
              "    </tr>\n",
              "  </thead>\n",
              "  <tbody>\n",
              "    <tr>\n",
              "      <th>0</th>\n",
              "      <td>1995</td>\n",
              "      <td>835.0</td>\n",
              "      <td>88</td>\n",
              "      <td>4055900.0</td>\n",
              "      <td>Albania</td>\n",
              "    </tr>\n",
              "    <tr>\n",
              "      <th>1</th>\n",
              "      <td>1996</td>\n",
              "      <td>1127.0</td>\n",
              "      <td>89</td>\n",
              "      <td>4078000.0</td>\n",
              "      <td>Albania</td>\n",
              "    </tr>\n",
              "    <tr>\n",
              "      <th>2</th>\n",
              "      <td>1997</td>\n",
              "      <td>793.0</td>\n",
              "      <td>170</td>\n",
              "      <td>4102100.0</td>\n",
              "      <td>Albania</td>\n",
              "    </tr>\n",
              "    <tr>\n",
              "      <th>3</th>\n",
              "      <td>1998</td>\n",
              "      <td>899.0</td>\n",
              "      <td>154</td>\n",
              "      <td>4129400.0</td>\n",
              "      <td>Albania</td>\n",
              "    </tr>\n",
              "    <tr>\n",
              "      <th>4</th>\n",
              "      <td>1999</td>\n",
              "      <td>1127.0</td>\n",
              "      <td>139</td>\n",
              "      <td>4159745.0</td>\n",
              "      <td>Albania</td>\n",
              "    </tr>\n",
              "    <tr>\n",
              "      <th>...</th>\n",
              "      <td>...</td>\n",
              "      <td>...</td>\n",
              "      <td>...</td>\n",
              "      <td>...</td>\n",
              "      <td>...</td>\n",
              "    </tr>\n",
              "    <tr>\n",
              "      <th>1017</th>\n",
              "      <td>1999</td>\n",
              "      <td>39013.0</td>\n",
              "      <td>583</td>\n",
              "      <td>NaN</td>\n",
              "      <td>Norway</td>\n",
              "    </tr>\n",
              "    <tr>\n",
              "      <th>1018</th>\n",
              "      <td>2000</td>\n",
              "      <td>41099.0</td>\n",
              "      <td>541</td>\n",
              "      <td>NaN</td>\n",
              "      <td>Norway</td>\n",
              "    </tr>\n",
              "    <tr>\n",
              "      <th>1019</th>\n",
              "      <td>2001</td>\n",
              "      <td>41281.0</td>\n",
              "      <td>549</td>\n",
              "      <td>NaN</td>\n",
              "      <td>Norway</td>\n",
              "    </tr>\n",
              "    <tr>\n",
              "      <th>1020</th>\n",
              "      <td>2002</td>\n",
              "      <td>46049.0</td>\n",
              "      <td>494</td>\n",
              "      <td>NaN</td>\n",
              "      <td>Norway</td>\n",
              "    </tr>\n",
              "    <tr>\n",
              "      <th>1021</th>\n",
              "      <td>2003</td>\n",
              "      <td>53533.0</td>\n",
              "      <td>499</td>\n",
              "      <td>NaN</td>\n",
              "      <td>Norway</td>\n",
              "    </tr>\n",
              "  </tbody>\n",
              "</table>\n",
              "<p>1022 rows × 5 columns</p>\n",
              "</div>\n",
              "      <button class=\"colab-df-convert\" onclick=\"convertToInteractive('df-490d4a99-6995-4885-8880-f069e929de3a')\"\n",
              "              title=\"Convert this dataframe to an interactive table.\"\n",
              "              style=\"display:none;\">\n",
              "        \n",
              "  <svg xmlns=\"http://www.w3.org/2000/svg\" height=\"24px\"viewBox=\"0 0 24 24\"\n",
              "       width=\"24px\">\n",
              "    <path d=\"M0 0h24v24H0V0z\" fill=\"none\"/>\n",
              "    <path d=\"M18.56 5.44l.94 2.06.94-2.06 2.06-.94-2.06-.94-.94-2.06-.94 2.06-2.06.94zm-11 1L8.5 8.5l.94-2.06 2.06-.94-2.06-.94L8.5 2.5l-.94 2.06-2.06.94zm10 10l.94 2.06.94-2.06 2.06-.94-2.06-.94-.94-2.06-.94 2.06-2.06.94z\"/><path d=\"M17.41 7.96l-1.37-1.37c-.4-.4-.92-.59-1.43-.59-.52 0-1.04.2-1.43.59L10.3 9.45l-7.72 7.72c-.78.78-.78 2.05 0 2.83L4 21.41c.39.39.9.59 1.41.59.51 0 1.02-.2 1.41-.59l7.78-7.78 2.81-2.81c.8-.78.8-2.07 0-2.86zM5.41 20L4 18.59l7.72-7.72 1.47 1.35L5.41 20z\"/>\n",
              "  </svg>\n",
              "      </button>\n",
              "      \n",
              "  <style>\n",
              "    .colab-df-container {\n",
              "      display:flex;\n",
              "      flex-wrap:wrap;\n",
              "      gap: 12px;\n",
              "    }\n",
              "\n",
              "    .colab-df-convert {\n",
              "      background-color: #E8F0FE;\n",
              "      border: none;\n",
              "      border-radius: 50%;\n",
              "      cursor: pointer;\n",
              "      display: none;\n",
              "      fill: #1967D2;\n",
              "      height: 32px;\n",
              "      padding: 0 0 0 0;\n",
              "      width: 32px;\n",
              "    }\n",
              "\n",
              "    .colab-df-convert:hover {\n",
              "      background-color: #E2EBFA;\n",
              "      box-shadow: 0px 1px 2px rgba(60, 64, 67, 0.3), 0px 1px 3px 1px rgba(60, 64, 67, 0.15);\n",
              "      fill: #174EA6;\n",
              "    }\n",
              "\n",
              "    [theme=dark] .colab-df-convert {\n",
              "      background-color: #3B4455;\n",
              "      fill: #D2E3FC;\n",
              "    }\n",
              "\n",
              "    [theme=dark] .colab-df-convert:hover {\n",
              "      background-color: #434B5C;\n",
              "      box-shadow: 0px 1px 3px 1px rgba(0, 0, 0, 0.15);\n",
              "      filter: drop-shadow(0px 1px 2px rgba(0, 0, 0, 0.3));\n",
              "      fill: #FFFFFF;\n",
              "    }\n",
              "  </style>\n",
              "\n",
              "      <script>\n",
              "        const buttonEl =\n",
              "          document.querySelector('#df-490d4a99-6995-4885-8880-f069e929de3a button.colab-df-convert');\n",
              "        buttonEl.style.display =\n",
              "          google.colab.kernel.accessAllowed ? 'block' : 'none';\n",
              "\n",
              "        async function convertToInteractive(key) {\n",
              "          const element = document.querySelector('#df-490d4a99-6995-4885-8880-f069e929de3a');\n",
              "          const dataTable =\n",
              "            await google.colab.kernel.invokeFunction('convertToInteractive',\n",
              "                                                     [key], {});\n",
              "          if (!dataTable) return;\n",
              "\n",
              "          const docLinkHtml = 'Like what you see? Visit the ' +\n",
              "            '<a target=\"_blank\" href=https://colab.research.google.com/notebooks/data_table.ipynb>data table notebook</a>'\n",
              "            + ' to learn more about interactive tables.';\n",
              "          element.innerHTML = '';\n",
              "          dataTable['output_type'] = 'display_data';\n",
              "          await google.colab.output.renderOutput(dataTable, element);\n",
              "          const docLink = document.createElement('div');\n",
              "          docLink.innerHTML = docLinkHtml;\n",
              "          element.appendChild(docLink);\n",
              "        }\n",
              "      </script>\n",
              "    </div>\n",
              "  </div>\n",
              "  "
            ]
          },
          "metadata": {},
          "execution_count": 30
        }
      ]
    },
    {
      "cell_type": "code",
      "source": [
        "total['risk'] = total.Suicides.copy()\n",
        "\n",
        "total['risk'] = np.where(total.risk < total.Suicides.mean(), 0, 1)"
      ],
      "metadata": {
        "id": "T5dYqtQ8oppR"
      },
      "execution_count": 31,
      "outputs": []
    },
    {
      "cell_type": "code",
      "source": [
        "plt.figure(figsize=(16, 5))\n",
        "plt.subplot(121)\n",
        "plt.hist(total.risk)\n",
        "plt.ylabel('counts', fontsize=14)\n",
        "plt.xlabel('Suicide risk', fontsize=14)\n",
        "\n",
        "plt.subplot(122)\n",
        "sns.distplot(total.Suicides[total.risk == 0], bins=10)\n",
        "sns.distplot(total.Suicides[total.risk == 1], bins=20)  \n",
        "plt.xlabel('Suicides', fontsize=14)"
      ],
      "metadata": {
        "colab": {
          "base_uri": "https://localhost:8080/",
          "height": 453
        },
        "id": "zNKbuJvGovcI",
        "outputId": "29ce83bb-2fb3-48fd-8e11-014a8681b82a"
      },
      "execution_count": 32,
      "outputs": [
        {
          "output_type": "stream",
          "name": "stderr",
          "text": [
            "/usr/local/lib/python3.8/dist-packages/seaborn/distributions.py:2619: FutureWarning: `distplot` is a deprecated function and will be removed in a future version. Please adapt your code to use either `displot` (a figure-level function with similar flexibility) or `histplot` (an axes-level function for histograms).\n",
            "  warnings.warn(msg, FutureWarning)\n",
            "/usr/local/lib/python3.8/dist-packages/seaborn/distributions.py:2619: FutureWarning: `distplot` is a deprecated function and will be removed in a future version. Please adapt your code to use either `displot` (a figure-level function with similar flexibility) or `histplot` (an axes-level function for histograms).\n",
            "  warnings.warn(msg, FutureWarning)\n"
          ]
        },
        {
          "output_type": "execute_result",
          "data": {
            "text/plain": [
              "Text(0.5, 0, 'Suicides')"
            ]
          },
          "metadata": {},
          "execution_count": 32
        },
        {
          "output_type": "display_data",
          "data": {
            "text/plain": [
              "<Figure size 1152x360 with 2 Axes>"
            ],
            "image/png": "[encoded data removed]"
          },
          "metadata": {
            "needs_background": "light"
          }
        }
      ]
    },
    {
      "cell_type": "code",
      "source": [
        "df.head()"
      ],
      "metadata": {
        "colab": {
          "base_uri": "https://localhost:8080/",
          "height": 206
        },
        "id": "HooShUVJ7el6",
        "outputId": "f12694d3-7405-4c84-d8c0-1723ba1b9737"
      },
      "execution_count": 33,
      "outputs": [
        {
          "output_type": "execute_result",
          "data": {
            "text/plain": [
              "    id  country  year     sex          age  suicides_no  population  \\\n",
              "72  72  Albania  1995    male  25-34 years           13      232900   \n",
              "73  73  Albania  1995    male  55-74 years            9      178000   \n",
              "74  74  Albania  1995  female    75+ years            2       40800   \n",
              "75  75  Albania  1995  female  15-24 years           13      283500   \n",
              "76  76  Albania  1995    male  15-24 years           11      241200   \n",
              "\n",
              "   country-year  gdp_for_year ($)   gdp_per_capita ($)       generation  \n",
              "72  Albania1995      2,424,499,009                 835     Generation X  \n",
              "73  Albania1995      2,424,499,009                 835           Silent  \n",
              "74  Albania1995      2,424,499,009                 835  G.I. Generation  \n",
              "75  Albania1995      2,424,499,009                 835     Generation X  \n",
              "76  Albania1995      2,424,499,009                 835     Generation X  "
            ],
            "text/html": [
              "\n",
              "  <div id=\"df-f32a74f4-b792-4cb4-a99c-ad3efad0abe3\">\n",
              "    <div class=\"colab-df-container\">\n",
              "      <div>\n",
              "<style scoped>\n",
              "    .dataframe tbody tr th:only-of-type {\n",
              "        vertical-align: middle;\n",
              "    }\n",
              "\n",
              "    .dataframe tbody tr th {\n",
              "        vertical-align: top;\n",
              "    }\n",
              "\n",
              "    .dataframe thead th {\n",
              "        text-align: right;\n",
              "    }\n",
              "</style>\n",
              "<table border=\"1\" class=\"dataframe\">\n",
              "  <thead>\n",
              "    <tr style=\"text-align: right;\">\n",
              "      <th></th>\n",
              "      <th>id</th>\n",
              "      <th>country</th>\n",
              "      <th>year</th>\n",
              "      <th>sex</th>\n",
              "      <th>age</th>\n",
              "      <th>suicides_no</th>\n",
              "      <th>population</th>\n",
              "      <th>country-year</th>\n",
              "      <th>gdp_for_year ($)</th>\n",
              "      <th>gdp_per_capita ($)</th>\n",
              "      <th>generation</th>\n",
              "    </tr>\n",
              "  </thead>\n",
              "  <tbody>\n",
              "    <tr>\n",
              "      <th>72</th>\n",
              "      <td>72</td>\n",
              "      <td>Albania</td>\n",
              "      <td>1995</td>\n",
              "      <td>male</td>\n",
              "      <td>25-34 years</td>\n",
              "      <td>13</td>\n",
              "      <td>232900</td>\n",
              "      <td>Albania1995</td>\n",
              "      <td>2,424,499,009</td>\n",
              "      <td>835</td>\n",
              "      <td>Generation X</td>\n",
              "    </tr>\n",
              "    <tr>\n",
              "      <th>73</th>\n",
              "      <td>73</td>\n",
              "      <td>Albania</td>\n",
              "      <td>1995</td>\n",
              "      <td>male</td>\n",
              "      <td>55-74 years</td>\n",
              "      <td>9</td>\n",
              "      <td>178000</td>\n",
              "      <td>Albania1995</td>\n",
              "      <td>2,424,499,009</td>\n",
              "      <td>835</td>\n",
              "      <td>Silent</td>\n",
              "    </tr>\n",
              "    <tr>\n",
              "      <th>74</th>\n",
              "      <td>74</td>\n",
              "      <td>Albania</td>\n",
              "      <td>1995</td>\n",
              "      <td>female</td>\n",
              "      <td>75+ years</td>\n",
              "      <td>2</td>\n",
              "      <td>40800</td>\n",
              "      <td>Albania1995</td>\n",
              "      <td>2,424,499,009</td>\n",
              "      <td>835</td>\n",
              "      <td>G.I. Generation</td>\n",
              "    </tr>\n",
              "    <tr>\n",
              "      <th>75</th>\n",
              "      <td>75</td>\n",
              "      <td>Albania</td>\n",
              "      <td>1995</td>\n",
              "      <td>female</td>\n",
              "      <td>15-24 years</td>\n",
              "      <td>13</td>\n",
              "      <td>283500</td>\n",
              "      <td>Albania1995</td>\n",
              "      <td>2,424,499,009</td>\n",
              "      <td>835</td>\n",
              "      <td>Generation X</td>\n",
              "    </tr>\n",
              "    <tr>\n",
              "      <th>76</th>\n",
              "      <td>76</td>\n",
              "      <td>Albania</td>\n",
              "      <td>1995</td>\n",
              "      <td>male</td>\n",
              "      <td>15-24 years</td>\n",
              "      <td>11</td>\n",
              "      <td>241200</td>\n",
              "      <td>Albania1995</td>\n",
              "      <td>2,424,499,009</td>\n",
              "      <td>835</td>\n",
              "      <td>Generation X</td>\n",
              "    </tr>\n",
              "  </tbody>\n",
              "</table>\n",
              "</div>\n",
              "      <button class=\"colab-df-convert\" onclick=\"convertToInteractive('df-f32a74f4-b792-4cb4-a99c-ad3efad0abe3')\"\n",
              "              title=\"Convert this dataframe to an interactive table.\"\n",
              "              style=\"display:none;\">\n",
              "        \n",
              "  <svg xmlns=\"http://www.w3.org/2000/svg\" height=\"24px\"viewBox=\"0 0 24 24\"\n",
              "       width=\"24px\">\n",
              "    <path d=\"M0 0h24v24H0V0z\" fill=\"none\"/>\n",
              "    <path d=\"M18.56 5.44l.94 2.06.94-2.06 2.06-.94-2.06-.94-.94-2.06-.94 2.06-2.06.94zm-11 1L8.5 8.5l.94-2.06 2.06-.94-2.06-.94L8.5 2.5l-.94 2.06-2.06.94zm10 10l.94 2.06.94-2.06 2.06-.94-2.06-.94-.94-2.06-.94 2.06-2.06.94z\"/><path d=\"M17.41 7.96l-1.37-1.37c-.4-.4-.92-.59-1.43-.59-.52 0-1.04.2-1.43.59L10.3 9.45l-7.72 7.72c-.78.78-.78 2.05 0 2.83L4 21.41c.39.39.9.59 1.41.59.51 0 1.02-.2 1.41-.59l7.78-7.78 2.81-2.81c.8-.78.8-2.07 0-2.86zM5.41 20L4 18.59l7.72-7.72 1.47 1.35L5.41 20z\"/>\n",
              "  </svg>\n",
              "      </button>\n",
              "      \n",
              "  <style>\n",
              "    .colab-df-container {\n",
              "      display:flex;\n",
              "      flex-wrap:wrap;\n",
              "      gap: 12px;\n",
              "    }\n",
              "\n",
              "    .colab-df-convert {\n",
              "      background-color: #E8F0FE;\n",
              "      border: none;\n",
              "      border-radius: 50%;\n",
              "      cursor: pointer;\n",
              "      display: none;\n",
              "      fill: #1967D2;\n",
              "      height: 32px;\n",
              "      padding: 0 0 0 0;\n",
              "      width: 32px;\n",
              "    }\n",
              "\n",
              "    .colab-df-convert:hover {\n",
              "      background-color: #E2EBFA;\n",
              "      box-shadow: 0px 1px 2px rgba(60, 64, 67, 0.3), 0px 1px 3px 1px rgba(60, 64, 67, 0.15);\n",
              "      fill: #174EA6;\n",
              "    }\n",
              "\n",
              "    [theme=dark] .colab-df-convert {\n",
              "      background-color: #3B4455;\n",
              "      fill: #D2E3FC;\n",
              "    }\n",
              "\n",
              "    [theme=dark] .colab-df-convert:hover {\n",
              "      background-color: #434B5C;\n",
              "      box-shadow: 0px 1px 3px 1px rgba(0, 0, 0, 0.15);\n",
              "      filter: drop-shadow(0px 1px 2px rgba(0, 0, 0, 0.3));\n",
              "      fill: #FFFFFF;\n",
              "    }\n",
              "  </style>\n",
              "\n",
              "      <script>\n",
              "        const buttonEl =\n",
              "          document.querySelector('#df-f32a74f4-b792-4cb4-a99c-ad3efad0abe3 button.colab-df-convert');\n",
              "        buttonEl.style.display =\n",
              "          google.colab.kernel.accessAllowed ? 'block' : 'none';\n",
              "\n",
              "        async function convertToInteractive(key) {\n",
              "          const element = document.querySelector('#df-f32a74f4-b792-4cb4-a99c-ad3efad0abe3');\n",
              "          const dataTable =\n",
              "            await google.colab.kernel.invokeFunction('convertToInteractive',\n",
              "                                                     [key], {});\n",
              "          if (!dataTable) return;\n",
              "\n",
              "          const docLinkHtml = 'Like what you see? Visit the ' +\n",
              "            '<a target=\"_blank\" href=https://colab.research.google.com/notebooks/data_table.ipynb>data table notebook</a>'\n",
              "            + ' to learn more about interactive tables.';\n",
              "          element.innerHTML = '';\n",
              "          dataTable['output_type'] = 'display_data';\n",
              "          await google.colab.output.renderOutput(dataTable, element);\n",
              "          const docLink = document.createElement('div');\n",
              "          docLink.innerHTML = docLinkHtml;\n",
              "          element.appendChild(docLink);\n",
              "        }\n",
              "      </script>\n",
              "    </div>\n",
              "  </div>\n",
              "  "
            ]
          },
          "metadata": {},
          "execution_count": 33
        }
      ]
    },
    {
      "cell_type": "code",
      "source": [
        "#drop  age ,country-year"
      ],
      "metadata": {
        "id": "ZnHMIjGH7o1H"
      },
      "execution_count": 34,
      "outputs": []
    },
    {
      "cell_type": "code",
      "source": [
        "df.drop(columns=['age','country-year'],inplace=True)"
      ],
      "metadata": {
        "id": "O__ExAax9n0p"
      },
      "execution_count": 35,
      "outputs": []
    },
    {
      "cell_type": "code",
      "source": [
        "df.head()"
      ],
      "metadata": {
        "id": "dW3hL1wf9vW3",
        "colab": {
          "base_uri": "https://localhost:8080/",
          "height": 206
        },
        "outputId": "667c8d5a-8d42-4da0-feb5-830f3acf747f"
      },
      "execution_count": 36,
      "outputs": [
        {
          "output_type": "execute_result",
          "data": {
            "text/plain": [
              "    id  country  year     sex  suicides_no  population  gdp_for_year ($)   \\\n",
              "72  72  Albania  1995    male           13      232900      2,424,499,009   \n",
              "73  73  Albania  1995    male            9      178000      2,424,499,009   \n",
              "74  74  Albania  1995  female            2       40800      2,424,499,009   \n",
              "75  75  Albania  1995  female           13      283500      2,424,499,009   \n",
              "76  76  Albania  1995    male           11      241200      2,424,499,009   \n",
              "\n",
              "    gdp_per_capita ($)       generation  \n",
              "72                 835     Generation X  \n",
              "73                 835           Silent  \n",
              "74                 835  G.I. Generation  \n",
              "75                 835     Generation X  \n",
              "76                 835     Generation X  "
            ],
            "text/html": [
              "\n",
              "  <div id=\"df-b7bdeef2-b410-4f0e-8fbd-4a8af9184fdd\">\n",
              "    <div class=\"colab-df-container\">\n",
              "      <div>\n",
              "<style scoped>\n",
              "    .dataframe tbody tr th:only-of-type {\n",
              "        vertical-align: middle;\n",
              "    }\n",
              "\n",
              "    .dataframe tbody tr th {\n",
              "        vertical-align: top;\n",
              "    }\n",
              "\n",
              "    .dataframe thead th {\n",
              "        text-align: right;\n",
              "    }\n",
              "</style>\n",
              "<table border=\"1\" class=\"dataframe\">\n",
              "  <thead>\n",
              "    <tr style=\"text-align: right;\">\n",
              "      <th></th>\n",
              "      <th>id</th>\n",
              "      <th>country</th>\n",
              "      <th>year</th>\n",
              "      <th>sex</th>\n",
              "      <th>suicides_no</th>\n",
              "      <th>population</th>\n",
              "      <th>gdp_for_year ($)</th>\n",
              "      <th>gdp_per_capita ($)</th>\n",
              "      <th>generation</th>\n",
              "    </tr>\n",
              "  </thead>\n",
              "  <tbody>\n",
              "    <tr>\n",
              "      <th>72</th>\n",
              "      <td>72</td>\n",
              "      <td>Albania</td>\n",
              "      <td>1995</td>\n",
              "      <td>male</td>\n",
              "      <td>13</td>\n",
              "      <td>232900</td>\n",
              "      <td>2,424,499,009</td>\n",
              "      <td>835</td>\n",
              "      <td>Generation X</td>\n",
              "    </tr>\n",
              "    <tr>\n",
              "      <th>73</th>\n",
              "      <td>73</td>\n",
              "      <td>Albania</td>\n",
              "      <td>1995</td>\n",
              "      <td>male</td>\n",
              "      <td>9</td>\n",
              "      <td>178000</td>\n",
              "      <td>2,424,499,009</td>\n",
              "      <td>835</td>\n",
              "      <td>Silent</td>\n",
              "    </tr>\n",
              "    <tr>\n",
              "      <th>74</th>\n",
              "      <td>74</td>\n",
              "      <td>Albania</td>\n",
              "      <td>1995</td>\n",
              "      <td>female</td>\n",
              "      <td>2</td>\n",
              "      <td>40800</td>\n",
              "      <td>2,424,499,009</td>\n",
              "      <td>835</td>\n",
              "      <td>G.I. Generation</td>\n",
              "    </tr>\n",
              "    <tr>\n",
              "      <th>75</th>\n",
              "      <td>75</td>\n",
              "      <td>Albania</td>\n",
              "      <td>1995</td>\n",
              "      <td>female</td>\n",
              "      <td>13</td>\n",
              "      <td>283500</td>\n",
              "      <td>2,424,499,009</td>\n",
              "      <td>835</td>\n",
              "      <td>Generation X</td>\n",
              "    </tr>\n",
              "    <tr>\n",
              "      <th>76</th>\n",
              "      <td>76</td>\n",
              "      <td>Albania</td>\n",
              "      <td>1995</td>\n",
              "      <td>male</td>\n",
              "      <td>11</td>\n",
              "      <td>241200</td>\n",
              "      <td>2,424,499,009</td>\n",
              "      <td>835</td>\n",
              "      <td>Generation X</td>\n",
              "    </tr>\n",
              "  </tbody>\n",
              "</table>\n",
              "</div>\n",
              "      <button class=\"colab-df-convert\" onclick=\"convertToInteractive('df-b7bdeef2-b410-4f0e-8fbd-4a8af9184fdd')\"\n",
              "              title=\"Convert this dataframe to an interactive table.\"\n",
              "              style=\"display:none;\">\n",
              "        \n",
              "  <svg xmlns=\"http://www.w3.org/2000/svg\" height=\"24px\"viewBox=\"0 0 24 24\"\n",
              "       width=\"24px\">\n",
              "    <path d=\"M0 0h24v24H0V0z\" fill=\"none\"/>\n",
              "    <path d=\"M18.56 5.44l.94 2.06.94-2.06 2.06-.94-2.06-.94-.94-2.06-.94 2.06-2.06.94zm-11 1L8.5 8.5l.94-2.06 2.06-.94-2.06-.94L8.5 2.5l-.94 2.06-2.06.94zm10 10l.94 2.06.94-2.06 2.06-.94-2.06-.94-.94-2.06-.94 2.06-2.06.94z\"/><path d=\"M17.41 7.96l-1.37-1.37c-.4-.4-.92-.59-1.43-.59-.52 0-1.04.2-1.43.59L10.3 9.45l-7.72 7.72c-.78.78-.78 2.05 0 2.83L4 21.41c.39.39.9.59 1.41.59.51 0 1.02-.2 1.41-.59l7.78-7.78 2.81-2.81c.8-.78.8-2.07 0-2.86zM5.41 20L4 18.59l7.72-7.72 1.47 1.35L5.41 20z\"/>\n",
              "  </svg>\n",
              "      </button>\n",
              "      \n",
              "  <style>\n",
              "    .colab-df-container {\n",
              "      display:flex;\n",
              "      flex-wrap:wrap;\n",
              "      gap: 12px;\n",
              "    }\n",
              "\n",
              "    .colab-df-convert {\n",
              "      background-color: #E8F0FE;\n",
              "      border: none;\n",
              "      border-radius: 50%;\n",
              "      cursor: pointer;\n",
              "      display: none;\n",
              "      fill: #1967D2;\n",
              "      height: 32px;\n",
              "      padding: 0 0 0 0;\n",
              "      width: 32px;\n",
              "    }\n",
              "\n",
              "    .colab-df-convert:hover {\n",
              "      background-color: #E2EBFA;\n",
              "      box-shadow: 0px 1px 2px rgba(60, 64, 67, 0.3), 0px 1px 3px 1px rgba(60, 64, 67, 0.15);\n",
              "      fill: #174EA6;\n",
              "    }\n",
              "\n",
              "    [theme=dark] .colab-df-convert {\n",
              "      background-color: #3B4455;\n",
              "      fill: #D2E3FC;\n",
              "    }\n",
              "\n",
              "    [theme=dark] .colab-df-convert:hover {\n",
              "      background-color: #434B5C;\n",
              "      box-shadow: 0px 1px 3px 1px rgba(0, 0, 0, 0.15);\n",
              "      filter: drop-shadow(0px 1px 2px rgba(0, 0, 0, 0.3));\n",
              "      fill: #FFFFFF;\n",
              "    }\n",
              "  </style>\n",
              "\n",
              "      <script>\n",
              "        const buttonEl =\n",
              "          document.querySelector('#df-b7bdeef2-b410-4f0e-8fbd-4a8af9184fdd button.colab-df-convert');\n",
              "        buttonEl.style.display =\n",
              "          google.colab.kernel.accessAllowed ? 'block' : 'none';\n",
              "\n",
              "        async function convertToInteractive(key) {\n",
              "          const element = document.querySelector('#df-b7bdeef2-b410-4f0e-8fbd-4a8af9184fdd');\n",
              "          const dataTable =\n",
              "            await google.colab.kernel.invokeFunction('convertToInteractive',\n",
              "                                                     [key], {});\n",
              "          if (!dataTable) return;\n",
              "\n",
              "          const docLinkHtml = 'Like what you see? Visit the ' +\n",
              "            '<a target=\"_blank\" href=https://colab.research.google.com/notebooks/data_table.ipynb>data table notebook</a>'\n",
              "            + ' to learn more about interactive tables.';\n",
              "          element.innerHTML = '';\n",
              "          dataTable['output_type'] = 'display_data';\n",
              "          await google.colab.output.renderOutput(dataTable, element);\n",
              "          const docLink = document.createElement('div');\n",
              "          docLink.innerHTML = docLinkHtml;\n",
              "          element.appendChild(docLink);\n",
              "        }\n",
              "      </script>\n",
              "    </div>\n",
              "  </div>\n",
              "  "
            ]
          },
          "metadata": {},
          "execution_count": 36
        }
      ]
    },
    {
      "cell_type": "code",
      "source": [
        "df.info()"
      ],
      "metadata": {
        "colab": {
          "base_uri": "https://localhost:8080/"
        },
        "id": "SRBqGN5IEa8j",
        "outputId": "f006a471-1415-4a59-b9c2-a3af3223c50f"
      },
      "execution_count": 37,
      "outputs": [
        {
          "output_type": "stream",
          "name": "stdout",
          "text": [
            "<class 'pandas.core.frame.DataFrame'>\n",
            "Int64Index: 12263 entries, 72 to 18082\n",
            "Data columns (total 9 columns):\n",
            " #   Column              Non-Null Count  Dtype \n",
            "---  ------              --------------  ----- \n",
            " 0   id                  12263 non-null  int64 \n",
            " 1   country             12263 non-null  object\n",
            " 2   year                12263 non-null  int64 \n",
            " 3   sex                 12263 non-null  object\n",
            " 4   suicides_no         12263 non-null  int64 \n",
            " 5   population          12263 non-null  int64 \n",
            " 6    gdp_for_year ($)   12263 non-null  object\n",
            " 7   gdp_per_capita ($)  12263 non-null  int64 \n",
            " 8   generation          12263 non-null  object\n",
            "dtypes: int64(5), object(4)\n",
            "memory usage: 1.2+ MB\n"
          ]
        }
      ]
    },
    {
      "cell_type": "code",
      "source": [
        "df.columns"
      ],
      "metadata": {
        "colab": {
          "base_uri": "https://localhost:8080/"
        },
        "id": "7vRSuwsECtJa",
        "outputId": "6571aa41-0da4-4e63-9303-55c7b213536c"
      },
      "execution_count": 38,
      "outputs": [
        {
          "output_type": "execute_result",
          "data": {
            "text/plain": [
              "Index(['id', 'country', 'year', 'sex', 'suicides_no', 'population',\n",
              "       ' gdp_for_year ($) ', 'gdp_per_capita ($)', 'generation'],\n",
              "      dtype='object')"
            ]
          },
          "metadata": {},
          "execution_count": 38
        }
      ]
    },
    {
      "cell_type": "code",
      "source": [
        "#label encoding \n",
        "from sklearn.preprocessing import LabelEncoder\n",
        "le = LabelEncoder()\n",
        "\n",
        "df['sex']= le.fit_transform(df['sex']) \n",
        "df['country']= le.fit_transform(df['country']) \n",
        "df['generation']= le.fit_transform(df['generation']) \n",
        "df.head()"
      ],
      "metadata": {
        "id": "yC2NNKa299e_",
        "colab": {
          "base_uri": "https://localhost:8080/",
          "height": 206
        },
        "outputId": "362cefe6-e2de-4c45-f892-9a5e12a6886f"
      },
      "execution_count": 39,
      "outputs": [
        {
          "output_type": "execute_result",
          "data": {
            "text/plain": [
              "    id  country  year  sex  suicides_no  population  gdp_for_year ($)   \\\n",
              "72  72        0  1995    1           13      232900      2,424,499,009   \n",
              "73  73        0  1995    1            9      178000      2,424,499,009   \n",
              "74  74        0  1995    0            2       40800      2,424,499,009   \n",
              "75  75        0  1995    0           13      283500      2,424,499,009   \n",
              "76  76        0  1995    1           11      241200      2,424,499,009   \n",
              "\n",
              "    gdp_per_capita ($)  generation  \n",
              "72                 835           2  \n",
              "73                 835           5  \n",
              "74                 835           1  \n",
              "75                 835           2  \n",
              "76                 835           2  "
            ],
            "text/html": [
              "\n",
              "  <div id=\"df-8a13d715-6c0a-402d-a8b9-aadd5ed6beae\">\n",
              "    <div class=\"colab-df-container\">\n",
              "      <div>\n",
              "<style scoped>\n",
              "    .dataframe tbody tr th:only-of-type {\n",
              "        vertical-align: middle;\n",
              "    }\n",
              "\n",
              "    .dataframe tbody tr th {\n",
              "        vertical-align: top;\n",
              "    }\n",
              "\n",
              "    .dataframe thead th {\n",
              "        text-align: right;\n",
              "    }\n",
              "</style>\n",
              "<table border=\"1\" class=\"dataframe\">\n",
              "  <thead>\n",
              "    <tr style=\"text-align: right;\">\n",
              "      <th></th>\n",
              "      <th>id</th>\n",
              "      <th>country</th>\n",
              "      <th>year</th>\n",
              "      <th>sex</th>\n",
              "      <th>suicides_no</th>\n",
              "      <th>population</th>\n",
              "      <th>gdp_for_year ($)</th>\n",
              "      <th>gdp_per_capita ($)</th>\n",
              "      <th>generation</th>\n",
              "    </tr>\n",
              "  </thead>\n",
              "  <tbody>\n",
              "    <tr>\n",
              "      <th>72</th>\n",
              "      <td>72</td>\n",
              "      <td>0</td>\n",
              "      <td>1995</td>\n",
              "      <td>1</td>\n",
              "      <td>13</td>\n",
              "      <td>232900</td>\n",
              "      <td>2,424,499,009</td>\n",
              "      <td>835</td>\n",
              "      <td>2</td>\n",
              "    </tr>\n",
              "    <tr>\n",
              "      <th>73</th>\n",
              "      <td>73</td>\n",
              "      <td>0</td>\n",
              "      <td>1995</td>\n",
              "      <td>1</td>\n",
              "      <td>9</td>\n",
              "      <td>178000</td>\n",
              "      <td>2,424,499,009</td>\n",
              "      <td>835</td>\n",
              "      <td>5</td>\n",
              "    </tr>\n",
              "    <tr>\n",
              "      <th>74</th>\n",
              "      <td>74</td>\n",
              "      <td>0</td>\n",
              "      <td>1995</td>\n",
              "      <td>0</td>\n",
              "      <td>2</td>\n",
              "      <td>40800</td>\n",
              "      <td>2,424,499,009</td>\n",
              "      <td>835</td>\n",
              "      <td>1</td>\n",
              "    </tr>\n",
              "    <tr>\n",
              "      <th>75</th>\n",
              "      <td>75</td>\n",
              "      <td>0</td>\n",
              "      <td>1995</td>\n",
              "      <td>0</td>\n",
              "      <td>13</td>\n",
              "      <td>283500</td>\n",
              "      <td>2,424,499,009</td>\n",
              "      <td>835</td>\n",
              "      <td>2</td>\n",
              "    </tr>\n",
              "    <tr>\n",
              "      <th>76</th>\n",
              "      <td>76</td>\n",
              "      <td>0</td>\n",
              "      <td>1995</td>\n",
              "      <td>1</td>\n",
              "      <td>11</td>\n",
              "      <td>241200</td>\n",
              "      <td>2,424,499,009</td>\n",
              "      <td>835</td>\n",
              "      <td>2</td>\n",
              "    </tr>\n",
              "  </tbody>\n",
              "</table>\n",
              "</div>\n",
              "      <button class=\"colab-df-convert\" onclick=\"convertToInteractive('df-8a13d715-6c0a-402d-a8b9-aadd5ed6beae')\"\n",
              "              title=\"Convert this dataframe to an interactive table.\"\n",
              "              style=\"display:none;\">\n",
              "        \n",
              "  <svg xmlns=\"http://www.w3.org/2000/svg\" height=\"24px\"viewBox=\"0 0 24 24\"\n",
              "       width=\"24px\">\n",
              "    <path d=\"M0 0h24v24H0V0z\" fill=\"none\"/>\n",
              "    <path d=\"M18.56 5.44l.94 2.06.94-2.06 2.06-.94-2.06-.94-.94-2.06-.94 2.06-2.06.94zm-11 1L8.5 8.5l.94-2.06 2.06-.94-2.06-.94L8.5 2.5l-.94 2.06-2.06.94zm10 10l.94 2.06.94-2.06 2.06-.94-2.06-.94-.94-2.06-.94 2.06-2.06.94z\"/><path d=\"M17.41 7.96l-1.37-1.37c-.4-.4-.92-.59-1.43-.59-.52 0-1.04.2-1.43.59L10.3 9.45l-7.72 7.72c-.78.78-.78 2.05 0 2.83L4 21.41c.39.39.9.59 1.41.59.51 0 1.02-.2 1.41-.59l7.78-7.78 2.81-2.81c.8-.78.8-2.07 0-2.86zM5.41 20L4 18.59l7.72-7.72 1.47 1.35L5.41 20z\"/>\n",
              "  </svg>\n",
              "      </button>\n",
              "      \n",
              "  <style>\n",
              "    .colab-df-container {\n",
              "      display:flex;\n",
              "      flex-wrap:wrap;\n",
              "      gap: 12px;\n",
              "    }\n",
              "\n",
              "    .colab-df-convert {\n",
              "      background-color: #E8F0FE;\n",
              "      border: none;\n",
              "      border-radius: 50%;\n",
              "      cursor: pointer;\n",
              "      display: none;\n",
              "      fill: #1967D2;\n",
              "      height: 32px;\n",
              "      padding: 0 0 0 0;\n",
              "      width: 32px;\n",
              "    }\n",
              "\n",
              "    .colab-df-convert:hover {\n",
              "      background-color: #E2EBFA;\n",
              "      box-shadow: 0px 1px 2px rgba(60, 64, 67, 0.3), 0px 1px 3px 1px rgba(60, 64, 67, 0.15);\n",
              "      fill: #174EA6;\n",
              "    }\n",
              "\n",
              "    [theme=dark] .colab-df-convert {\n",
              "      background-color: #3B4455;\n",
              "      fill: #D2E3FC;\n",
              "    }\n",
              "\n",
              "    [theme=dark] .colab-df-convert:hover {\n",
              "      background-color: #434B5C;\n",
              "      box-shadow: 0px 1px 3px 1px rgba(0, 0, 0, 0.15);\n",
              "      filter: drop-shadow(0px 1px 2px rgba(0, 0, 0, 0.3));\n",
              "      fill: #FFFFFF;\n",
              "    }\n",
              "  </style>\n",
              "\n",
              "      <script>\n",
              "        const buttonEl =\n",
              "          document.querySelector('#df-8a13d715-6c0a-402d-a8b9-aadd5ed6beae button.colab-df-convert');\n",
              "        buttonEl.style.display =\n",
              "          google.colab.kernel.accessAllowed ? 'block' : 'none';\n",
              "\n",
              "        async function convertToInteractive(key) {\n",
              "          const element = document.querySelector('#df-8a13d715-6c0a-402d-a8b9-aadd5ed6beae');\n",
              "          const dataTable =\n",
              "            await google.colab.kernel.invokeFunction('convertToInteractive',\n",
              "                                                     [key], {});\n",
              "          if (!dataTable) return;\n",
              "\n",
              "          const docLinkHtml = 'Like what you see? Visit the ' +\n",
              "            '<a target=\"_blank\" href=https://colab.research.google.com/notebooks/data_table.ipynb>data table notebook</a>'\n",
              "            + ' to learn more about interactive tables.';\n",
              "          element.innerHTML = '';\n",
              "          dataTable['output_type'] = 'display_data';\n",
              "          await google.colab.output.renderOutput(dataTable, element);\n",
              "          const docLink = document.createElement('div');\n",
              "          docLink.innerHTML = docLinkHtml;\n",
              "          element.appendChild(docLink);\n",
              "        }\n",
              "      </script>\n",
              "    </div>\n",
              "  </div>\n",
              "  "
            ]
          },
          "metadata": {},
          "execution_count": 39
        }
      ]
    },
    {
      "cell_type": "code",
      "source": [
        "df[' gdp_for_year ($) '].replace(',','',regex=True,inplace=True)\n",
        "df[' gdp_for_year ($) '] = df[' gdp_for_year ($) '].astype(int)"
      ],
      "metadata": {
        "id": "-zSNKvc2FJjh"
      },
      "execution_count": 40,
      "outputs": []
    },
    {
      "cell_type": "code",
      "source": [
        "df.info()"
      ],
      "metadata": {
        "colab": {
          "base_uri": "https://localhost:8080/"
        },
        "id": "NQ0eAyD2DHIf",
        "outputId": "4d29b183-e8e1-47c4-95aa-2a1c28a0f70f"
      },
      "execution_count": 41,
      "outputs": [
        {
          "output_type": "stream",
          "name": "stdout",
          "text": [
            "<class 'pandas.core.frame.DataFrame'>\n",
            "Int64Index: 12263 entries, 72 to 18082\n",
            "Data columns (total 9 columns):\n",
            " #   Column              Non-Null Count  Dtype\n",
            "---  ------              --------------  -----\n",
            " 0   id                  12263 non-null  int64\n",
            " 1   country             12263 non-null  int64\n",
            " 2   year                12263 non-null  int64\n",
            " 3   sex                 12263 non-null  int64\n",
            " 4   suicides_no         12263 non-null  int64\n",
            " 5   population          12263 non-null  int64\n",
            " 6    gdp_for_year ($)   12263 non-null  int64\n",
            " 7   gdp_per_capita ($)  12263 non-null  int64\n",
            " 8   generation          12263 non-null  int64\n",
            "dtypes: int64(9)\n",
            "memory usage: 1.2 MB\n"
          ]
        }
      ]
    },
    {
      "cell_type": "code",
      "source": [
        "df.isna().sum()"
      ],
      "metadata": {
        "colab": {
          "base_uri": "https://localhost:8080/"
        },
        "id": "o1BpjAdG7QAR",
        "outputId": "998b4a1d-af0e-4e78-b5f1-5b91f322a049"
      },
      "execution_count": 42,
      "outputs": [
        {
          "output_type": "execute_result",
          "data": {
            "text/plain": [
              "id                    0\n",
              "country               0\n",
              "year                  0\n",
              "sex                   0\n",
              "suicides_no           0\n",
              "population            0\n",
              " gdp_for_year ($)     0\n",
              "gdp_per_capita ($)    0\n",
              "generation            0\n",
              "dtype: int64"
            ]
          },
          "metadata": {},
          "execution_count": 42
        }
      ]
    },
    {
      "cell_type": "code",
      "source": [
        "# Preparing data for modeling\n",
        "\n",
        "X = df.drop(['suicides_no', \"id\"],axis=1)\n",
        "y = df['suicides_no']"
      ],
      "metadata": {
        "id": "sJcqNoZvF-WO"
      },
      "execution_count": 53,
      "outputs": []
    },
    {
      "cell_type": "code",
      "source": [
        "# Train-test split\n",
        "\n",
        "X_train, X_test, y_train, y_test = train_test_split(X, y, test_size=0.25, random_state=4)\n",
        "\n",
        "print('Train set:', X_train.shape, y_train.shape)\n",
        "print('Test set:', X_test.shape, y_test.shape)"
      ],
      "metadata": {
        "id": "iMD_c3vknwtj",
        "colab": {
          "base_uri": "https://localhost:8080/"
        },
        "outputId": "46f514ad-f865-43a8-d68b-1090b2a69f1d"
      },
      "execution_count": 54,
      "outputs": [
        {
          "output_type": "stream",
          "name": "stdout",
          "text": [
            "Train set: (9197, 7) (9197,)\n",
            "Test set: (3066, 7) (3066,)\n"
          ]
        }
      ]
    },
    {
      "cell_type": "code",
      "source": [
        "#Import your Linear Regression libraries"
      ],
      "metadata": {
        "id": "KmH83FNbL3H9"
      },
      "execution_count": 55,
      "outputs": []
    },
    {
      "cell_type": "code",
      "source": [
        "from sklearn.linear_model import LinearRegression\n",
        "ln_reg = LinearRegression()\n",
        "ln_reg.fit(X_train, y_train)"
      ],
      "metadata": {
        "colab": {
          "base_uri": "https://localhost:8080/"
        },
        "id": "W7KmiRFZT0xr",
        "outputId": "7093da6d-2f8c-4128-b7ed-8038c9185c5e"
      },
      "execution_count": 56,
      "outputs": [
        {
          "output_type": "execute_result",
          "data": {
            "text/plain": [
              "LinearRegression()"
            ]
          },
          "metadata": {},
          "execution_count": 56
        }
      ]
    },
    {
      "cell_type": "code",
      "source": [
        "from sklearn.metrics import mean_squared_error,mean_absolute_error, r2_score"
      ],
      "metadata": {
        "id": "9DHT0qkkTC_7"
      },
      "execution_count": 57,
      "outputs": []
    },
    {
      "cell_type": "code",
      "source": [
        "from sklearn.metrics import mean_squared_error,mean_absolute_error, r2_score\n",
        "\n",
        "df_pred = ln_reg.predict(X_test)\n",
        "print('Mean Absolute Error of linear regression:',mean_absolute_error(df_pred, y_test))\n",
        "print('Mean Square Error of linear regression:', mean_squared_error(df_pred, y_test))\n",
        "print('R_Squared Score of linear regression:', r2_score(y_test,df_pred))"
      ],
      "metadata": {
        "colab": {
          "base_uri": "https://localhost:8080/"
        },
        "id": "6Y0cdNWwUFqF",
        "outputId": "f7f141a7-c3d9-420c-e656-ad59f737952b"
      },
      "execution_count": 58,
      "outputs": [
        {
          "output_type": "stream",
          "name": "stdout",
          "text": [
            "Mean Absolute Error of linear regression: 168.9849307844203\n",
            "Mean Square Error of linear regression: 168946.57230410137\n",
            "R_Squared Score of linear regression: 0.49992449242627013\n"
          ]
        }
      ]
    },
    {
      "cell_type": "code",
      "source": [
        "mean_squared_error(y_train, ln_reg.predict(X_train))"
      ],
      "metadata": {
        "colab": {
          "base_uri": "https://localhost:8080/"
        },
        "id": "Dd2cdDpWfzRs",
        "outputId": "2f453833-e608-4deb-dda8-580846af5d1b"
      },
      "execution_count": 82,
      "outputs": [
        {
          "output_type": "execute_result",
          "data": {
            "text/plain": [
              "145016.31304035138"
            ]
          },
          "metadata": {},
          "execution_count": 82
        }
      ]
    },
    {
      "cell_type": "code",
      "source": [
        "r2_score(y_train, ln_reg.predict(X_train))"
      ],
      "metadata": {
        "colab": {
          "base_uri": "https://localhost:8080/"
        },
        "id": "GUXFPwIif9iI",
        "outputId": "1852ac67-4e55-4e8a-be80-c481a9e38970"
      },
      "execution_count": 83,
      "outputs": [
        {
          "output_type": "execute_result",
          "data": {
            "text/plain": [
              "0.48218721105445905"
            ]
          },
          "metadata": {},
          "execution_count": 83
        }
      ]
    },
    {
      "cell_type": "code",
      "source": [
        "from sklearn.tree import DecisionTreeRegressor\n",
        "\n",
        "tree = DecisionTreeRegressor(max_depth=3)\n",
        "tree.fit(X_train, y_train)"
      ],
      "metadata": {
        "colab": {
          "base_uri": "https://localhost:8080/"
        },
        "id": "GPCwhvkHQu2l",
        "outputId": "64a0e964-129a-426a-ed33-4e1238d9e47e"
      },
      "execution_count": 71,
      "outputs": [
        {
          "output_type": "execute_result",
          "data": {
            "text/plain": [
              "DecisionTreeRegressor(max_depth=3)"
            ]
          },
          "metadata": {},
          "execution_count": 71
        }
      ]
    },
    {
      "cell_type": "code",
      "source": [
        "X_train"
      ],
      "metadata": {
        "colab": {
          "base_uri": "https://localhost:8080/",
          "height": 423
        },
        "id": "YM0yD7m6Zh_5",
        "outputId": "cd1533d6-d4dd-4234-e403-399356db3a32"
      },
      "execution_count": 72,
      "outputs": [
        {
          "output_type": "execute_result",
          "data": {
            "text/plain": [
              "       country  year  sex  population   gdp_for_year ($)   gdp_per_capita ($)  \\\n",
              "10628       36  2010    1       11871           771015889                8118   \n",
              "6231        21  2003    0      511236         17195867540                4583   \n",
              "8724        30  2011    0        6455          3774530616                4862   \n",
              "3146        10  2010    0        9853          4461650000               17034   \n",
              "14903       50  2004    1      155780         14373269156                6644   \n",
              "...        ...   ...  ...         ...                 ...                 ...   \n",
              "8695        30  2008    1       80437          3523185920                4675   \n",
              "1129         3  2006    1      184526          6384451606                2310   \n",
              "15605       52  2009    1       30979         51370543206              109483   \n",
              "12298       41  2005    1      552960        211650764830               55213   \n",
              "1720         5  2010    0     1579905       1144260547873               54887   \n",
              "\n",
              "       generation  \n",
              "10628           4  \n",
              "6231            0  \n",
              "8724            5  \n",
              "3146            5  \n",
              "14903           2  \n",
              "...           ...  \n",
              "8695            4  \n",
              "1129            5  \n",
              "15605           3  \n",
              "12298           0  \n",
              "1720            2  \n",
              "\n",
              "[9197 rows x 7 columns]"
            ],
            "text/html": [
              "\n",
              "  <div id=\"df-8ce6f638-b2f7-4657-9eab-8ec92a10f6df\">\n",
              "    <div class=\"colab-df-container\">\n",
              "      <div>\n",
              "<style scoped>\n",
              "    .dataframe tbody tr th:only-of-type {\n",
              "        vertical-align: middle;\n",
              "    }\n",
              "\n",
              "    .dataframe tbody tr th {\n",
              "        vertical-align: top;\n",
              "    }\n",
              "\n",
              "    .dataframe thead th {\n",
              "        text-align: right;\n",
              "    }\n",
              "</style>\n",
              "<table border=\"1\" class=\"dataframe\">\n",
              "  <thead>\n",
              "    <tr style=\"text-align: right;\">\n",
              "      <th></th>\n",
              "      <th>country</th>\n",
              "      <th>year</th>\n",
              "      <th>sex</th>\n",
              "      <th>population</th>\n",
              "      <th>gdp_for_year ($)</th>\n",
              "      <th>gdp_per_capita ($)</th>\n",
              "      <th>generation</th>\n",
              "    </tr>\n",
              "  </thead>\n",
              "  <tbody>\n",
              "    <tr>\n",
              "      <th>10628</th>\n",
              "      <td>36</td>\n",
              "      <td>2010</td>\n",
              "      <td>1</td>\n",
              "      <td>11871</td>\n",
              "      <td>771015889</td>\n",
              "      <td>8118</td>\n",
              "      <td>4</td>\n",
              "    </tr>\n",
              "    <tr>\n",
              "      <th>6231</th>\n",
              "      <td>21</td>\n",
              "      <td>2003</td>\n",
              "      <td>0</td>\n",
              "      <td>511236</td>\n",
              "      <td>17195867540</td>\n",
              "      <td>4583</td>\n",
              "      <td>0</td>\n",
              "    </tr>\n",
              "    <tr>\n",
              "      <th>8724</th>\n",
              "      <td>30</td>\n",
              "      <td>2011</td>\n",
              "      <td>0</td>\n",
              "      <td>6455</td>\n",
              "      <td>3774530616</td>\n",
              "      <td>4862</td>\n",
              "      <td>5</td>\n",
              "    </tr>\n",
              "    <tr>\n",
              "      <th>3146</th>\n",
              "      <td>10</td>\n",
              "      <td>2010</td>\n",
              "      <td>0</td>\n",
              "      <td>9853</td>\n",
              "      <td>4461650000</td>\n",
              "      <td>17034</td>\n",
              "      <td>5</td>\n",
              "    </tr>\n",
              "    <tr>\n",
              "      <th>14903</th>\n",
              "      <td>50</td>\n",
              "      <td>2004</td>\n",
              "      <td>1</td>\n",
              "      <td>155780</td>\n",
              "      <td>14373269156</td>\n",
              "      <td>6644</td>\n",
              "      <td>2</td>\n",
              "    </tr>\n",
              "    <tr>\n",
              "      <th>...</th>\n",
              "      <td>...</td>\n",
              "      <td>...</td>\n",
              "      <td>...</td>\n",
              "      <td>...</td>\n",
              "      <td>...</td>\n",
              "      <td>...</td>\n",
              "      <td>...</td>\n",
              "    </tr>\n",
              "    <tr>\n",
              "      <th>8695</th>\n",
              "      <td>30</td>\n",
              "      <td>2008</td>\n",
              "      <td>1</td>\n",
              "      <td>80437</td>\n",
              "      <td>3523185920</td>\n",
              "      <td>4675</td>\n",
              "      <td>4</td>\n",
              "    </tr>\n",
              "    <tr>\n",
              "      <th>1129</th>\n",
              "      <td>3</td>\n",
              "      <td>2006</td>\n",
              "      <td>1</td>\n",
              "      <td>184526</td>\n",
              "      <td>6384451606</td>\n",
              "      <td>2310</td>\n",
              "      <td>5</td>\n",
              "    </tr>\n",
              "    <tr>\n",
              "      <th>15605</th>\n",
              "      <td>52</td>\n",
              "      <td>2009</td>\n",
              "      <td>1</td>\n",
              "      <td>30979</td>\n",
              "      <td>51370543206</td>\n",
              "      <td>109483</td>\n",
              "      <td>3</td>\n",
              "    </tr>\n",
              "    <tr>\n",
              "      <th>12298</th>\n",
              "      <td>41</td>\n",
              "      <td>2005</td>\n",
              "      <td>1</td>\n",
              "      <td>552960</td>\n",
              "      <td>211650764830</td>\n",
              "      <td>55213</td>\n",
              "      <td>0</td>\n",
              "    </tr>\n",
              "    <tr>\n",
              "      <th>1720</th>\n",
              "      <td>5</td>\n",
              "      <td>2010</td>\n",
              "      <td>0</td>\n",
              "      <td>1579905</td>\n",
              "      <td>1144260547873</td>\n",
              "      <td>54887</td>\n",
              "      <td>2</td>\n",
              "    </tr>\n",
              "  </tbody>\n",
              "</table>\n",
              "<p>9197 rows × 7 columns</p>\n",
              "</div>\n",
              "      <button class=\"colab-df-convert\" onclick=\"convertToInteractive('df-8ce6f638-b2f7-4657-9eab-8ec92a10f6df')\"\n",
              "              title=\"Convert this dataframe to an interactive table.\"\n",
              "              style=\"display:none;\">\n",
              "        \n",
              "  <svg xmlns=\"http://www.w3.org/2000/svg\" height=\"24px\"viewBox=\"0 0 24 24\"\n",
              "       width=\"24px\">\n",
              "    <path d=\"M0 0h24v24H0V0z\" fill=\"none\"/>\n",
              "    <path d=\"M18.56 5.44l.94 2.06.94-2.06 2.06-.94-2.06-.94-.94-2.06-.94 2.06-2.06.94zm-11 1L8.5 8.5l.94-2.06 2.06-.94-2.06-.94L8.5 2.5l-.94 2.06-2.06.94zm10 10l.94 2.06.94-2.06 2.06-.94-2.06-.94-.94-2.06-.94 2.06-2.06.94z\"/><path d=\"M17.41 7.96l-1.37-1.37c-.4-.4-.92-.59-1.43-.59-.52 0-1.04.2-1.43.59L10.3 9.45l-7.72 7.72c-.78.78-.78 2.05 0 2.83L4 21.41c.39.39.9.59 1.41.59.51 0 1.02-.2 1.41-.59l7.78-7.78 2.81-2.81c.8-.78.8-2.07 0-2.86zM5.41 20L4 18.59l7.72-7.72 1.47 1.35L5.41 20z\"/>\n",
              "  </svg>\n",
              "      </button>\n",
              "      \n",
              "  <style>\n",
              "    .colab-df-container {\n",
              "      display:flex;\n",
              "      flex-wrap:wrap;\n",
              "      gap: 12px;\n",
              "    }\n",
              "\n",
              "    .colab-df-convert {\n",
              "      background-color: #E8F0FE;\n",
              "      border: none;\n",
              "      border-radius: 50%;\n",
              "      cursor: pointer;\n",
              "      display: none;\n",
              "      fill: #1967D2;\n",
              "      height: 32px;\n",
              "      padding: 0 0 0 0;\n",
              "      width: 32px;\n",
              "    }\n",
              "\n",
              "    .colab-df-convert:hover {\n",
              "      background-color: #E2EBFA;\n",
              "      box-shadow: 0px 1px 2px rgba(60, 64, 67, 0.3), 0px 1px 3px 1px rgba(60, 64, 67, 0.15);\n",
              "      fill: #174EA6;\n",
              "    }\n",
              "\n",
              "    [theme=dark] .colab-df-convert {\n",
              "      background-color: #3B4455;\n",
              "      fill: #D2E3FC;\n",
              "    }\n",
              "\n",
              "    [theme=dark] .colab-df-convert:hover {\n",
              "      background-color: #434B5C;\n",
              "      box-shadow: 0px 1px 3px 1px rgba(0, 0, 0, 0.15);\n",
              "      filter: drop-shadow(0px 1px 2px rgba(0, 0, 0, 0.3));\n",
              "      fill: #FFFFFF;\n",
              "    }\n",
              "  </style>\n",
              "\n",
              "      <script>\n",
              "        const buttonEl =\n",
              "          document.querySelector('#df-8ce6f638-b2f7-4657-9eab-8ec92a10f6df button.colab-df-convert');\n",
              "        buttonEl.style.display =\n",
              "          google.colab.kernel.accessAllowed ? 'block' : 'none';\n",
              "\n",
              "        async function convertToInteractive(key) {\n",
              "          const element = document.querySelector('#df-8ce6f638-b2f7-4657-9eab-8ec92a10f6df');\n",
              "          const dataTable =\n",
              "            await google.colab.kernel.invokeFunction('convertToInteractive',\n",
              "                                                     [key], {});\n",
              "          if (!dataTable) return;\n",
              "\n",
              "          const docLinkHtml = 'Like what you see? Visit the ' +\n",
              "            '<a target=\"_blank\" href=https://colab.research.google.com/notebooks/data_table.ipynb>data table notebook</a>'\n",
              "            + ' to learn more about interactive tables.';\n",
              "          element.innerHTML = '';\n",
              "          dataTable['output_type'] = 'display_data';\n",
              "          await google.colab.output.renderOutput(dataTable, element);\n",
              "          const docLink = document.createElement('div');\n",
              "          docLink.innerHTML = docLinkHtml;\n",
              "          element.appendChild(docLink);\n",
              "        }\n",
              "      </script>\n",
              "    </div>\n",
              "  </div>\n",
              "  "
            ]
          },
          "metadata": {},
          "execution_count": 72
        }
      ]
    },
    {
      "cell_type": "code",
      "source": [
        "y_pred_tree = tree.predict(X_test)"
      ],
      "metadata": {
        "id": "E6o5jq8Ray4q"
      },
      "execution_count": 73,
      "outputs": []
    },
    {
      "cell_type": "code",
      "source": [
        "print(mean_squared_error(y_train, tree.predict(X_train)))"
      ],
      "metadata": {
        "colab": {
          "base_uri": "https://localhost:8080/"
        },
        "id": "KTLLaMypfeSb",
        "outputId": "7a1d1287-67af-4215-92b3-4c274717cacc"
      },
      "execution_count": 80,
      "outputs": [
        {
          "output_type": "stream",
          "name": "stdout",
          "text": [
            "52458.111130945865\n"
          ]
        }
      ]
    },
    {
      "cell_type": "code",
      "source": [
        "print(mean_squared_error(y_test, y_pred_tree))"
      ],
      "metadata": {
        "colab": {
          "base_uri": "https://localhost:8080/"
        },
        "id": "S1f-ucqkdJg0",
        "outputId": "7681f0bc-30f8-4b79-fa5b-5cfc842eda1c"
      },
      "execution_count": 81,
      "outputs": [
        {
          "output_type": "stream",
          "name": "stdout",
          "text": [
            "62765.361914331435\n"
          ]
        }
      ]
    },
    {
      "cell_type": "code",
      "source": [
        "print(\"R Squared Error on Train \", r2_score(y_train, tree.predict(X_train)))"
      ],
      "metadata": {
        "colab": {
          "base_uri": "https://localhost:8080/"
        },
        "id": "viGFBFQofF9O",
        "outputId": "7fe9c56b-ea4d-496b-f679-9ec567947ff2"
      },
      "execution_count": 79,
      "outputs": [
        {
          "output_type": "stream",
          "name": "stdout",
          "text": [
            "R Squared Error on Train  0.8126867229070163\n"
          ]
        }
      ]
    },
    {
      "cell_type": "code",
      "source": [
        "print(\"R Squared Error on test data\", r2_score(y_test, y_pred_tree))"
      ],
      "metadata": {
        "colab": {
          "base_uri": "https://localhost:8080/"
        },
        "id": "dv7SopvTew1N",
        "outputId": "9c9b7b63-3bad-40c9-9a04-46a06c1ef932"
      },
      "execution_count": 95,
      "outputs": [
        {
          "output_type": "stream",
          "name": "stdout",
          "text": [
            "R Squared Error on test data 0.8142168865026675\n"
          ]
        }
      ]
    },
    {
      "cell_type": "code",
      "source": [
        "y_train"
      ],
      "metadata": {
        "colab": {
          "base_uri": "https://localhost:8080/"
        },
        "id": "5wk2_uQVbLV9",
        "outputId": "cfe03646-62a7-40d9-a11f-db7bc16bc32a"
      },
      "execution_count": 62,
      "outputs": [
        {
          "output_type": "execute_result",
          "data": {
            "text/plain": [
              "10628      0\n",
              "6231      11\n",
              "8724       0\n",
              "3146       0\n",
              "14903     60\n",
              "        ... \n",
              "8695       3\n",
              "1129      21\n",
              "15605      0\n",
              "12298    134\n",
              "1720      94\n",
              "Name: suicides_no, Length: 9197, dtype: int64"
            ]
          },
          "metadata": {},
          "execution_count": 62
        }
      ]
    },
    {
      "cell_type": "code",
      "source": [
        "plt.scatter(X_train.iloc[:, 5], y_train)\n",
        "plt.plot(X_test.iloc[:,5], y_pred_tree)"
      ],
      "metadata": {
        "colab": {
          "base_uri": "https://localhost:8080/",
          "height": 283
        },
        "id": "07xPAs1QYtDm",
        "outputId": "eb6c7006-1441-4cc1-f273-9d489238f129"
      },
      "execution_count": 75,
      "outputs": [
        {
          "output_type": "execute_result",
          "data": {
            "text/plain": [
              "[<matplotlib.lines.Line2D at 0x7f097db44340>]"
            ]
          },
          "metadata": {},
          "execution_count": 75
        },
        {
          "output_type": "display_data",
          "data": {
            "text/plain": [
              "<Figure size 432x288 with 1 Axes>"
            ],
            "image/png": "[encoded data removed]"
          },
          "metadata": {
            "needs_background": "light"
          }
        }
      ]
    },
    {
      "cell_type": "code",
      "source": [],
      "metadata": {
        "id": "C_uT59hTefOG"
      },
      "execution_count": null,
      "outputs": []
    },
    {
      "cell_type": "code",
      "source": [
        "from sklearn.tree import plot_tree\n",
        "\n",
        "_, ax = plt.subplots(figsize=(30, 25))\n",
        "_ = plot_tree(tree, feature_names=X_train.columns, ax=ax)"
      ],
      "metadata": {
        "colab": {
          "base_uri": "https://localhost:8080/",
          "height": 1000
        },
        "id": "rkJjyMACSYC2",
        "outputId": "cb7df8c2-e21e-4744-e54f-d0fde937b1b5"
      },
      "execution_count": 88,
      "outputs": [
        {
          "output_type": "display_data",
          "data": {
            "text/plain": [
              "<Figure size 2160x1800 with 1 Axes>"
            ],
            "image/png": "[encoded data removed]"
          },
          "metadata": {
            "needs_background": "light"
          }
        }
      ]
    },
    {
      "cell_type": "code",
      "source": [
        "from sklearn.tree import DecisionTreeRegressor\n",
        "\n",
        "tree1 = DecisionTreeRegressor(max_depth=1)\n",
        "tree1.fit(X_train, y_train)"
      ],
      "metadata": {
        "colab": {
          "base_uri": "https://localhost:8080/"
        },
        "id": "mcbqKxKVh5JV",
        "outputId": "c0817079-97af-4635-b0f3-02c92abd5d34"
      },
      "execution_count": 90,
      "outputs": [
        {
          "output_type": "execute_result",
          "data": {
            "text/plain": [
              "DecisionTreeRegressor(max_depth=1)"
            ]
          },
          "metadata": {},
          "execution_count": 90
        }
      ]
    },
    {
      "cell_type": "code",
      "source": [
        "y_pred_tree1 = tree1.predict(X_test)"
      ],
      "metadata": {
        "id": "FbWimTFOiS1v"
      },
      "execution_count": 91,
      "outputs": []
    },
    {
      "cell_type": "code",
      "source": [
        "print(mean_squared_error(y_train, tree1.predict(X_train)))"
      ],
      "metadata": {
        "colab": {
          "base_uri": "https://localhost:8080/"
        },
        "id": "JhLbcmU9iTH6",
        "outputId": "7115f071-45fb-4886-dfc5-5329e9418080"
      },
      "execution_count": 92,
      "outputs": [
        {
          "output_type": "stream",
          "name": "stdout",
          "text": [
            "193716.911313725\n"
          ]
        }
      ]
    },
    {
      "cell_type": "code",
      "source": [
        "print(mean_squared_error(y_test, y_pred_tree1))"
      ],
      "metadata": {
        "colab": {
          "base_uri": "https://localhost:8080/"
        },
        "id": "HzHcmcTJiTOP",
        "outputId": "fffb4d75-ac7d-4239-f350-88633c4919fc"
      },
      "execution_count": 93,
      "outputs": [
        {
          "output_type": "stream",
          "name": "stdout",
          "text": [
            "227488.23605594967\n"
          ]
        }
      ]
    },
    {
      "cell_type": "code",
      "source": [
        "print(\"R Squared Error on Train \", r2_score(y_train, tree1.predict(X_train)))"
      ],
      "metadata": {
        "colab": {
          "base_uri": "https://localhost:8080/"
        },
        "id": "ulOBOkZKiTUf",
        "outputId": "17fe3482-147a-4b0c-d9d8-1fe8db30f7df"
      },
      "execution_count": 94,
      "outputs": [
        {
          "output_type": "stream",
          "name": "stdout",
          "text": [
            "R Squared Error on Train  0.30829096389063115\n"
          ]
        }
      ]
    },
    {
      "cell_type": "code",
      "source": [
        "print(\"R Squared Error on test data\", r2_score(y_test, y_pred_tree1))"
      ],
      "metadata": {
        "colab": {
          "base_uri": "https://localhost:8080/"
        },
        "id": "5nj_hpjTiTah",
        "outputId": "bbbea2c2-6d6a-4a99-8636-e8dbc37495de"
      },
      "execution_count": 96,
      "outputs": [
        {
          "output_type": "stream",
          "name": "stdout",
          "text": [
            "R Squared Error on test data 0.32664336682745576\n"
          ]
        }
      ]
    },
    {
      "cell_type": "code",
      "source": [
        "from sklearn.tree import plot_tree\n",
        "\n",
        "_, ax = plt.subplots(figsize=(30, 25))\n",
        "_ = plot_tree(tree1, feature_names=X_train.columns, ax=ax)"
      ],
      "metadata": {
        "colab": {
          "base_uri": "https://localhost:8080/",
          "height": 1000
        },
        "id": "4EV-AkMJiThX",
        "outputId": "d90c99c5-837a-4b67-ec31-0ed7855b25bc"
      },
      "execution_count": 97,
      "outputs": [
        {
          "output_type": "display_data",
          "data": {
            "text/plain": [
              "<Figure size 2160x1800 with 1 Axes>"
            ],
            "image/png": "[encoded data removed]"
          },
          "metadata": {
            "needs_background": "light"
          }
        }
      ]
    },
    {
      "cell_type": "code",
      "source": [],
      "metadata": {
        "id": "E6UOv9SgiTnh"
      },
      "execution_count": null,
      "outputs": []
    }
  ]
}